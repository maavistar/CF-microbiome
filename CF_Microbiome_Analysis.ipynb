{
  "nbformat": 4,
  "nbformat_minor": 0,
  "metadata": {
    "colab": {
      "provenance": [],
      "collapsed_sections": [],
      "authorship_tag": "ABX9TyP6E48eps0yxNQ48WOCHRm0",
      "include_colab_link": true
    },
    "kernelspec": {
      "name": "python3",
      "display_name": "Python 3"
    },
    "language_info": {
      "name": "python"
    }
  },
  "cells": [
    {
      "cell_type": "markdown",
      "metadata": {
        "id": "view-in-github",
        "colab_type": "text"
      },
      "source": [
        "<a href=\"https://colab.research.google.com/github/maavistar/hello-world/blob/master/CF_Microbiome_Analysis.ipynb\" target=\"_parent\"><img src=\"https://colab.research.google.com/assets/colab-badge.svg\" alt=\"Open In Colab\"/></a>"
      ]
    },
    {
      "cell_type": "code",
      "execution_count": null,
      "metadata": {
        "id": "KT4hknlwT3I2"
      },
      "outputs": [],
      "source": [
        "import pandas as pd\n",
        "import numpy as np\n",
        "import matplotlib.pyplot as plt"
      ]
    },
    {
      "cell_type": "code",
      "source": [
        "!gdown --id 1aU9-VffFEZrcB5yG4QzqYJ-4QfW59X2E # sample info\n",
        "!gdown --id 1Jmp4PvgPy8YjaiOcFa7baY-3tkCZO9Vs # taxonomic data\n",
        "!gdown --id 1jeHFeaApOIBOjr71TvnxbYfvzEU5ZJ3v # count matrix\n",
        "!gdown --id 1iNQpFfidd5giZ1Hg7ItrVPvayNYN9SG9 # clustered data\n",
        "!gdown --id 1RnkL8i3PkqfseIZHLFSuSwRuLeSc4Bnl # clustered names"
      ],
      "metadata": {
        "colab": {
          "base_uri": "https://localhost:8080/"
        },
        "id": "_w3zmoDQUBME",
        "outputId": "9bcfb0f0-2fd7-4661-dbb7-490788771bec"
      },
      "execution_count": null,
      "outputs": [
        {
          "output_type": "stream",
          "name": "stdout",
          "text": [
            "/usr/local/lib/python3.7/dist-packages/gdown/cli.py:131: FutureWarning: Option `--id` was deprecated in version 4.3.1 and will be removed in 5.0. You don't need to pass it anymore to use a file ID.\n",
            "  category=FutureWarning,\n",
            "Downloading...\n",
            "From: https://drive.google.com/uc?id=1aU9-VffFEZrcB5yG4QzqYJ-4QfW59X2E\n",
            "To: /content/sample_info.txt\n",
            "100% 34.7k/34.7k [00:00<00:00, 32.7MB/s]\n",
            "/usr/local/lib/python3.7/dist-packages/gdown/cli.py:131: FutureWarning: Option `--id` was deprecated in version 4.3.1 and will be removed in 5.0. You don't need to pass it anymore to use a file ID.\n",
            "  category=FutureWarning,\n",
            "Downloading...\n",
            "From: https://drive.google.com/uc?id=1Jmp4PvgPy8YjaiOcFa7baY-3tkCZO9Vs\n",
            "To: /content/taxonomic_data.txt.taxonomy\n",
            "100% 7.03M/7.03M [00:00<00:00, 76.3MB/s]\n",
            "/usr/local/lib/python3.7/dist-packages/gdown/cli.py:131: FutureWarning: Option `--id` was deprecated in version 4.3.1 and will be removed in 5.0. You don't need to pass it anymore to use a file ID.\n",
            "  category=FutureWarning,\n",
            "Downloading...\n",
            "From: https://drive.google.com/uc?id=1jeHFeaApOIBOjr71TvnxbYfvzEU5ZJ3v\n",
            "To: /content/count_table.txt.count_table\n",
            "100% 34.2M/34.2M [00:00<00:00, 77.3MB/s]\n",
            "/usr/local/lib/python3.7/dist-packages/gdown/cli.py:131: FutureWarning: Option `--id` was deprecated in version 4.3.1 and will be removed in 5.0. You don't need to pass it anymore to use a file ID.\n",
            "  category=FutureWarning,\n",
            "Downloading...\n",
            "From: https://drive.google.com/uc?id=1iNQpFfidd5giZ1Hg7ItrVPvayNYN9SG9\n",
            "To: /content/clustered_data.txt.fasta\n",
            "100% 12.5M/12.5M [00:00<00:00, 175MB/s]\n",
            "/usr/local/lib/python3.7/dist-packages/gdown/cli.py:131: FutureWarning: Option `--id` was deprecated in version 4.3.1 and will be removed in 5.0. You don't need to pass it anymore to use a file ID.\n",
            "  category=FutureWarning,\n",
            "Downloading...\n",
            "From: https://drive.google.com/uc?id=1RnkL8i3PkqfseIZHLFSuSwRuLeSc4Bnl\n",
            "To: /content/clustered_names.txt.names\n",
            "100% 18.1M/18.1M [00:00<00:00, 116MB/s]\n"
          ]
        }
      ]
    },
    {
      "cell_type": "code",
      "source": [
        "sample_data = pd.read_table(\"sample_info.txt\")\n",
        "taxonomic_data = pd.read_table(\"taxonomic_data.txt.taxonomy\", header=None)\n",
        "count_matrix = pd.read_table(\"count_table.txt.count_table\")\n",
        "clustered_data = pd.read_table(\"clustered_names.txt.names\", header=None)"
      ],
      "metadata": {
        "id": "ydsRo3pRUptr"
      },
      "execution_count": null,
      "outputs": []
    },
    {
      "cell_type": "code",
      "source": [
        "count_matrix"
      ],
      "metadata": {
        "colab": {
          "base_uri": "https://localhost:8080/",
          "height": 488
        },
        "id": "tMtD0VQZyB0i",
        "outputId": "da375226-b8e2-4015-d66e-9274c3043e33"
      },
      "execution_count": null,
      "outputs": [
        {
          "output_type": "execute_result",
          "data": {
            "text/plain": [
              "       Representative_Sequence  total  13507.RTSF.NTC1  13507.RTSF.NTC2  \\\n",
              "0            13507.RTSF.NTC1_0      1                1                0   \n",
              "1            13507.RTSF.NTC1_1     15               15                0   \n",
              "2            13507.RTSF.NTC1_2      1                1                0   \n",
              "3            13507.RTSF.NTC1_3      7                7                0   \n",
              "4            13507.RTSF.NTC1_4      1                1                0   \n",
              "...                        ...    ...              ...              ...   \n",
              "276863     13507.SH043.T_18243      2                0                0   \n",
              "276864     13507.SH043.T_18245      1                0                0   \n",
              "276865     13507.SH043.T_18247      1                0                0   \n",
              "276866     13507.SH043.T_18248      1                0                0   \n",
              "276867     13507.SH043.T_18249      1                0                0   \n",
              "\n",
              "        13507.RTSF.NTC3  13507.SD200.N  13507.SD200.T  13507.SD231.N  \\\n",
              "0                     0              0              0              0   \n",
              "1                     0              0              0              0   \n",
              "2                     0              0              0              0   \n",
              "3                     0              0              0              0   \n",
              "4                     0              0              0              0   \n",
              "...                 ...            ...            ...            ...   \n",
              "276863                0              0              0              0   \n",
              "276864                0              0              0              0   \n",
              "276865                0              0              0              0   \n",
              "276866                0              0              0              0   \n",
              "276867                0              0              0              0   \n",
              "\n",
              "        13507.SD231.T  13507.SD239.N  ...  13507.SH036.N  13507.SH036.T  \\\n",
              "0                   0              0  ...              0              0   \n",
              "1                   0              0  ...              0              0   \n",
              "2                   0              0  ...              0              0   \n",
              "3                   0              0  ...              0              0   \n",
              "4                   0              0  ...              0              0   \n",
              "...               ...            ...  ...            ...            ...   \n",
              "276863              0              0  ...              0              0   \n",
              "276864              0              0  ...              0              0   \n",
              "276865              0              0  ...              0              0   \n",
              "276866              0              0  ...              0              0   \n",
              "276867              0              0  ...              0              0   \n",
              "\n",
              "        13507.SH037.N  13507.SH037.T  13507.SH038.N  13507.SH038.T  \\\n",
              "0                   0              0              0              0   \n",
              "1                   0              0              0              0   \n",
              "2                   0              0              0              0   \n",
              "3                   0              0              0              0   \n",
              "4                   0              0              0              0   \n",
              "...               ...            ...            ...            ...   \n",
              "276863              0              0              0              0   \n",
              "276864              0              0              0              0   \n",
              "276865              0              0              0              0   \n",
              "276866              0              0              0              0   \n",
              "276867              0              0              0              0   \n",
              "\n",
              "        13507.SH039.N  13507.SH039.T  13507.SH043.N  13507.SH043.T  \n",
              "0                   0              0              0              0  \n",
              "1                   0              0              0              0  \n",
              "2                   0              0              0              0  \n",
              "3                   0              0              0              0  \n",
              "4                   0              0              0              0  \n",
              "...               ...            ...            ...            ...  \n",
              "276863              0              0              0              2  \n",
              "276864              0              0              0              1  \n",
              "276865              0              0              0              1  \n",
              "276866              0              0              0              1  \n",
              "276867              0              0              0              1  \n",
              "\n",
              "[276868 rows x 53 columns]"
            ],
            "text/html": [
              "\n",
              "  <div id=\"df-7090ea60-15fa-4b3c-8474-7f39249bbaab\">\n",
              "    <div class=\"colab-df-container\">\n",
              "      <div>\n",
              "<style scoped>\n",
              "    .dataframe tbody tr th:only-of-type {\n",
              "        vertical-align: middle;\n",
              "    }\n",
              "\n",
              "    .dataframe tbody tr th {\n",
              "        vertical-align: top;\n",
              "    }\n",
              "\n",
              "    .dataframe thead th {\n",
              "        text-align: right;\n",
              "    }\n",
              "</style>\n",
              "<table border=\"1\" class=\"dataframe\">\n",
              "  <thead>\n",
              "    <tr style=\"text-align: right;\">\n",
              "      <th></th>\n",
              "      <th>Representative_Sequence</th>\n",
              "      <th>total</th>\n",
              "      <th>13507.RTSF.NTC1</th>\n",
              "      <th>13507.RTSF.NTC2</th>\n",
              "      <th>13507.RTSF.NTC3</th>\n",
              "      <th>13507.SD200.N</th>\n",
              "      <th>13507.SD200.T</th>\n",
              "      <th>13507.SD231.N</th>\n",
              "      <th>13507.SD231.T</th>\n",
              "      <th>13507.SD239.N</th>\n",
              "      <th>...</th>\n",
              "      <th>13507.SH036.N</th>\n",
              "      <th>13507.SH036.T</th>\n",
              "      <th>13507.SH037.N</th>\n",
              "      <th>13507.SH037.T</th>\n",
              "      <th>13507.SH038.N</th>\n",
              "      <th>13507.SH038.T</th>\n",
              "      <th>13507.SH039.N</th>\n",
              "      <th>13507.SH039.T</th>\n",
              "      <th>13507.SH043.N</th>\n",
              "      <th>13507.SH043.T</th>\n",
              "    </tr>\n",
              "  </thead>\n",
              "  <tbody>\n",
              "    <tr>\n",
              "      <th>0</th>\n",
              "      <td>13507.RTSF.NTC1_0</td>\n",
              "      <td>1</td>\n",
              "      <td>1</td>\n",
              "      <td>0</td>\n",
              "      <td>0</td>\n",
              "      <td>0</td>\n",
              "      <td>0</td>\n",
              "      <td>0</td>\n",
              "      <td>0</td>\n",
              "      <td>0</td>\n",
              "      <td>...</td>\n",
              "      <td>0</td>\n",
              "      <td>0</td>\n",
              "      <td>0</td>\n",
              "      <td>0</td>\n",
              "      <td>0</td>\n",
              "      <td>0</td>\n",
              "      <td>0</td>\n",
              "      <td>0</td>\n",
              "      <td>0</td>\n",
              "      <td>0</td>\n",
              "    </tr>\n",
              "    <tr>\n",
              "      <th>1</th>\n",
              "      <td>13507.RTSF.NTC1_1</td>\n",
              "      <td>15</td>\n",
              "      <td>15</td>\n",
              "      <td>0</td>\n",
              "      <td>0</td>\n",
              "      <td>0</td>\n",
              "      <td>0</td>\n",
              "      <td>0</td>\n",
              "      <td>0</td>\n",
              "      <td>0</td>\n",
              "      <td>...</td>\n",
              "      <td>0</td>\n",
              "      <td>0</td>\n",
              "      <td>0</td>\n",
              "      <td>0</td>\n",
              "      <td>0</td>\n",
              "      <td>0</td>\n",
              "      <td>0</td>\n",
              "      <td>0</td>\n",
              "      <td>0</td>\n",
              "      <td>0</td>\n",
              "    </tr>\n",
              "    <tr>\n",
              "      <th>2</th>\n",
              "      <td>13507.RTSF.NTC1_2</td>\n",
              "      <td>1</td>\n",
              "      <td>1</td>\n",
              "      <td>0</td>\n",
              "      <td>0</td>\n",
              "      <td>0</td>\n",
              "      <td>0</td>\n",
              "      <td>0</td>\n",
              "      <td>0</td>\n",
              "      <td>0</td>\n",
              "      <td>...</td>\n",
              "      <td>0</td>\n",
              "      <td>0</td>\n",
              "      <td>0</td>\n",
              "      <td>0</td>\n",
              "      <td>0</td>\n",
              "      <td>0</td>\n",
              "      <td>0</td>\n",
              "      <td>0</td>\n",
              "      <td>0</td>\n",
              "      <td>0</td>\n",
              "    </tr>\n",
              "    <tr>\n",
              "      <th>3</th>\n",
              "      <td>13507.RTSF.NTC1_3</td>\n",
              "      <td>7</td>\n",
              "      <td>7</td>\n",
              "      <td>0</td>\n",
              "      <td>0</td>\n",
              "      <td>0</td>\n",
              "      <td>0</td>\n",
              "      <td>0</td>\n",
              "      <td>0</td>\n",
              "      <td>0</td>\n",
              "      <td>...</td>\n",
              "      <td>0</td>\n",
              "      <td>0</td>\n",
              "      <td>0</td>\n",
              "      <td>0</td>\n",
              "      <td>0</td>\n",
              "      <td>0</td>\n",
              "      <td>0</td>\n",
              "      <td>0</td>\n",
              "      <td>0</td>\n",
              "      <td>0</td>\n",
              "    </tr>\n",
              "    <tr>\n",
              "      <th>4</th>\n",
              "      <td>13507.RTSF.NTC1_4</td>\n",
              "      <td>1</td>\n",
              "      <td>1</td>\n",
              "      <td>0</td>\n",
              "      <td>0</td>\n",
              "      <td>0</td>\n",
              "      <td>0</td>\n",
              "      <td>0</td>\n",
              "      <td>0</td>\n",
              "      <td>0</td>\n",
              "      <td>...</td>\n",
              "      <td>0</td>\n",
              "      <td>0</td>\n",
              "      <td>0</td>\n",
              "      <td>0</td>\n",
              "      <td>0</td>\n",
              "      <td>0</td>\n",
              "      <td>0</td>\n",
              "      <td>0</td>\n",
              "      <td>0</td>\n",
              "      <td>0</td>\n",
              "    </tr>\n",
              "    <tr>\n",
              "      <th>...</th>\n",
              "      <td>...</td>\n",
              "      <td>...</td>\n",
              "      <td>...</td>\n",
              "      <td>...</td>\n",
              "      <td>...</td>\n",
              "      <td>...</td>\n",
              "      <td>...</td>\n",
              "      <td>...</td>\n",
              "      <td>...</td>\n",
              "      <td>...</td>\n",
              "      <td>...</td>\n",
              "      <td>...</td>\n",
              "      <td>...</td>\n",
              "      <td>...</td>\n",
              "      <td>...</td>\n",
              "      <td>...</td>\n",
              "      <td>...</td>\n",
              "      <td>...</td>\n",
              "      <td>...</td>\n",
              "      <td>...</td>\n",
              "      <td>...</td>\n",
              "    </tr>\n",
              "    <tr>\n",
              "      <th>276863</th>\n",
              "      <td>13507.SH043.T_18243</td>\n",
              "      <td>2</td>\n",
              "      <td>0</td>\n",
              "      <td>0</td>\n",
              "      <td>0</td>\n",
              "      <td>0</td>\n",
              "      <td>0</td>\n",
              "      <td>0</td>\n",
              "      <td>0</td>\n",
              "      <td>0</td>\n",
              "      <td>...</td>\n",
              "      <td>0</td>\n",
              "      <td>0</td>\n",
              "      <td>0</td>\n",
              "      <td>0</td>\n",
              "      <td>0</td>\n",
              "      <td>0</td>\n",
              "      <td>0</td>\n",
              "      <td>0</td>\n",
              "      <td>0</td>\n",
              "      <td>2</td>\n",
              "    </tr>\n",
              "    <tr>\n",
              "      <th>276864</th>\n",
              "      <td>13507.SH043.T_18245</td>\n",
              "      <td>1</td>\n",
              "      <td>0</td>\n",
              "      <td>0</td>\n",
              "      <td>0</td>\n",
              "      <td>0</td>\n",
              "      <td>0</td>\n",
              "      <td>0</td>\n",
              "      <td>0</td>\n",
              "      <td>0</td>\n",
              "      <td>...</td>\n",
              "      <td>0</td>\n",
              "      <td>0</td>\n",
              "      <td>0</td>\n",
              "      <td>0</td>\n",
              "      <td>0</td>\n",
              "      <td>0</td>\n",
              "      <td>0</td>\n",
              "      <td>0</td>\n",
              "      <td>0</td>\n",
              "      <td>1</td>\n",
              "    </tr>\n",
              "    <tr>\n",
              "      <th>276865</th>\n",
              "      <td>13507.SH043.T_18247</td>\n",
              "      <td>1</td>\n",
              "      <td>0</td>\n",
              "      <td>0</td>\n",
              "      <td>0</td>\n",
              "      <td>0</td>\n",
              "      <td>0</td>\n",
              "      <td>0</td>\n",
              "      <td>0</td>\n",
              "      <td>0</td>\n",
              "      <td>...</td>\n",
              "      <td>0</td>\n",
              "      <td>0</td>\n",
              "      <td>0</td>\n",
              "      <td>0</td>\n",
              "      <td>0</td>\n",
              "      <td>0</td>\n",
              "      <td>0</td>\n",
              "      <td>0</td>\n",
              "      <td>0</td>\n",
              "      <td>1</td>\n",
              "    </tr>\n",
              "    <tr>\n",
              "      <th>276866</th>\n",
              "      <td>13507.SH043.T_18248</td>\n",
              "      <td>1</td>\n",
              "      <td>0</td>\n",
              "      <td>0</td>\n",
              "      <td>0</td>\n",
              "      <td>0</td>\n",
              "      <td>0</td>\n",
              "      <td>0</td>\n",
              "      <td>0</td>\n",
              "      <td>0</td>\n",
              "      <td>...</td>\n",
              "      <td>0</td>\n",
              "      <td>0</td>\n",
              "      <td>0</td>\n",
              "      <td>0</td>\n",
              "      <td>0</td>\n",
              "      <td>0</td>\n",
              "      <td>0</td>\n",
              "      <td>0</td>\n",
              "      <td>0</td>\n",
              "      <td>1</td>\n",
              "    </tr>\n",
              "    <tr>\n",
              "      <th>276867</th>\n",
              "      <td>13507.SH043.T_18249</td>\n",
              "      <td>1</td>\n",
              "      <td>0</td>\n",
              "      <td>0</td>\n",
              "      <td>0</td>\n",
              "      <td>0</td>\n",
              "      <td>0</td>\n",
              "      <td>0</td>\n",
              "      <td>0</td>\n",
              "      <td>0</td>\n",
              "      <td>...</td>\n",
              "      <td>0</td>\n",
              "      <td>0</td>\n",
              "      <td>0</td>\n",
              "      <td>0</td>\n",
              "      <td>0</td>\n",
              "      <td>0</td>\n",
              "      <td>0</td>\n",
              "      <td>0</td>\n",
              "      <td>0</td>\n",
              "      <td>1</td>\n",
              "    </tr>\n",
              "  </tbody>\n",
              "</table>\n",
              "<p>276868 rows × 53 columns</p>\n",
              "</div>\n",
              "      <button class=\"colab-df-convert\" onclick=\"convertToInteractive('df-7090ea60-15fa-4b3c-8474-7f39249bbaab')\"\n",
              "              title=\"Convert this dataframe to an interactive table.\"\n",
              "              style=\"display:none;\">\n",
              "        \n",
              "  <svg xmlns=\"http://www.w3.org/2000/svg\" height=\"24px\"viewBox=\"0 0 24 24\"\n",
              "       width=\"24px\">\n",
              "    <path d=\"M0 0h24v24H0V0z\" fill=\"none\"/>\n",
              "    <path d=\"M18.56 5.44l.94 2.06.94-2.06 2.06-.94-2.06-.94-.94-2.06-.94 2.06-2.06.94zm-11 1L8.5 8.5l.94-2.06 2.06-.94-2.06-.94L8.5 2.5l-.94 2.06-2.06.94zm10 10l.94 2.06.94-2.06 2.06-.94-2.06-.94-.94-2.06-.94 2.06-2.06.94z\"/><path d=\"M17.41 7.96l-1.37-1.37c-.4-.4-.92-.59-1.43-.59-.52 0-1.04.2-1.43.59L10.3 9.45l-7.72 7.72c-.78.78-.78 2.05 0 2.83L4 21.41c.39.39.9.59 1.41.59.51 0 1.02-.2 1.41-.59l7.78-7.78 2.81-2.81c.8-.78.8-2.07 0-2.86zM5.41 20L4 18.59l7.72-7.72 1.47 1.35L5.41 20z\"/>\n",
              "  </svg>\n",
              "      </button>\n",
              "      \n",
              "  <style>\n",
              "    .colab-df-container {\n",
              "      display:flex;\n",
              "      flex-wrap:wrap;\n",
              "      gap: 12px;\n",
              "    }\n",
              "\n",
              "    .colab-df-convert {\n",
              "      background-color: #E8F0FE;\n",
              "      border: none;\n",
              "      border-radius: 50%;\n",
              "      cursor: pointer;\n",
              "      display: none;\n",
              "      fill: #1967D2;\n",
              "      height: 32px;\n",
              "      padding: 0 0 0 0;\n",
              "      width: 32px;\n",
              "    }\n",
              "\n",
              "    .colab-df-convert:hover {\n",
              "      background-color: #E2EBFA;\n",
              "      box-shadow: 0px 1px 2px rgba(60, 64, 67, 0.3), 0px 1px 3px 1px rgba(60, 64, 67, 0.15);\n",
              "      fill: #174EA6;\n",
              "    }\n",
              "\n",
              "    [theme=dark] .colab-df-convert {\n",
              "      background-color: #3B4455;\n",
              "      fill: #D2E3FC;\n",
              "    }\n",
              "\n",
              "    [theme=dark] .colab-df-convert:hover {\n",
              "      background-color: #434B5C;\n",
              "      box-shadow: 0px 1px 3px 1px rgba(0, 0, 0, 0.15);\n",
              "      filter: drop-shadow(0px 1px 2px rgba(0, 0, 0, 0.3));\n",
              "      fill: #FFFFFF;\n",
              "    }\n",
              "  </style>\n",
              "\n",
              "      <script>\n",
              "        const buttonEl =\n",
              "          document.querySelector('#df-7090ea60-15fa-4b3c-8474-7f39249bbaab button.colab-df-convert');\n",
              "        buttonEl.style.display =\n",
              "          google.colab.kernel.accessAllowed ? 'block' : 'none';\n",
              "\n",
              "        async function convertToInteractive(key) {\n",
              "          const element = document.querySelector('#df-7090ea60-15fa-4b3c-8474-7f39249bbaab');\n",
              "          const dataTable =\n",
              "            await google.colab.kernel.invokeFunction('convertToInteractive',\n",
              "                                                     [key], {});\n",
              "          if (!dataTable) return;\n",
              "\n",
              "          const docLinkHtml = 'Like what you see? Visit the ' +\n",
              "            '<a target=\"_blank\" href=https://colab.research.google.com/notebooks/data_table.ipynb>data table notebook</a>'\n",
              "            + ' to learn more about interactive tables.';\n",
              "          element.innerHTML = '';\n",
              "          dataTable['output_type'] = 'display_data';\n",
              "          await google.colab.output.renderOutput(dataTable, element);\n",
              "          const docLink = document.createElement('div');\n",
              "          docLink.innerHTML = docLinkHtml;\n",
              "          element.appendChild(docLink);\n",
              "        }\n",
              "      </script>\n",
              "    </div>\n",
              "  </div>\n",
              "  "
            ]
          },
          "metadata": {},
          "execution_count": 70
        }
      ]
    },
    {
      "cell_type": "markdown",
      "source": [
        "Cleaning Up Taxonomic Data"
      ],
      "metadata": {
        "id": "RwqKFgtzUqNC"
      }
    },
    {
      "cell_type": "code",
      "source": [
        "def remove_bacteria(taxonomy_str):\n",
        "  new_tax = taxonomy_str.split(\";\")\n",
        "  new_tax = new_tax[1:]\n",
        "  return new_tax\n",
        "\n",
        "taxonomic_data.columns = [\"rep_seq\", \"bact_comp\"]\n",
        "\n",
        "taxonomic_data[\"new_bact_comp\"] = taxonomic_data[\"bact_comp\"].apply(remove_bacteria)\n",
        "print(taxonomic_data)"
      ],
      "metadata": {
        "id": "8U-9-M3cU5MF",
        "colab": {
          "base_uri": "https://localhost:8080/"
        },
        "outputId": "eabb3e8a-982f-4d32-f80f-3e0e8693bff4"
      },
      "execution_count": null,
      "outputs": [
        {
          "output_type": "stream",
          "name": "stdout",
          "text": [
            "                   rep_seq                                          bact_comp  \\\n",
            "0       13507.RTSF.NTC1_35  Bacteria(98);Bacteria_unclassified(98);Bacteri...   \n",
            "1       13507.RTSF.NTC1_16  Bacteria(100);\"Proteobacteria\"(93);Deltaproteo...   \n",
            "2      13507.RTSF.NTC1_301  Bacteria(100);\"Verrucomicrobia\"(100);Spartobac...   \n",
            "3       13507.RTSF.NTC1_82  Bacteria(100);\"Bacteroidetes\"(100);\"Sphingobac...   \n",
            "4      13507.RTSF.NTC1_312  Bacteria(100);\"Bacteroidetes\"(100);\"Sphingobac...   \n",
            "...                    ...                                                ...   \n",
            "45944  13507.SH043.T_15365  Bacteria(97);Firmicutes(90);Clostridia(86);Clo...   \n",
            "45945  13507.SH043.T_15355  Bacteria(99);\"Bacteroidetes\"(99);\"Bacteroidia\"...   \n",
            "45946  13507.SH043.T_15334  Bacteria(100);\"Bacteroidetes\"(99);\"Bacteroidia...   \n",
            "45947  13507.SH043.T_17263  Bacteria(100);\"Bacteroidetes\"(99);\"Bacteroidia...   \n",
            "45948  13507.SH043.T_17210  Bacteria(100);\"Proteobacteria\"(100);Gammaprote...   \n",
            "\n",
            "                                           new_bact_comp  \n",
            "0      [Bacteria_unclassified(98), Bacteria_unclassif...  \n",
            "1      [\"Proteobacteria\"(93), Deltaproteobacteria(91)...  \n",
            "2      [\"Verrucomicrobia\"(100), Spartobacteria(100), ...  \n",
            "3      [\"Bacteroidetes\"(100), \"Sphingobacteria\"(100),...  \n",
            "4      [\"Bacteroidetes\"(100), \"Sphingobacteria\"(100),...  \n",
            "...                                                  ...  \n",
            "45944  [Firmicutes(90), Clostridia(86), Clostridiales...  \n",
            "45945  [\"Bacteroidetes\"(99), \"Bacteroidia\"(90), \"Bact...  \n",
            "45946  [\"Bacteroidetes\"(99), \"Bacteroidia\"(81), \"Bact...  \n",
            "45947  [\"Bacteroidetes\"(99), \"Bacteroidia\"(99), \"Bact...  \n",
            "45948  [\"Proteobacteria\"(100), Gammaproteobacteria(97...  \n",
            "\n",
            "[45949 rows x 3 columns]\n"
          ]
        }
      ]
    },
    {
      "cell_type": "code",
      "source": [
        "def extract_genus(tax_list):\n",
        "  genus = tax_list[-2].split(\"(\")[0]\n",
        "  return genus\n",
        "\n",
        "taxonomic_data[\"genus\"] = taxonomic_data[\"new_bact_comp\"].apply(extract_genus)"
      ],
      "metadata": {
        "id": "36K5O8u6VImp"
      },
      "execution_count": null,
      "outputs": []
    },
    {
      "cell_type": "code",
      "source": [
        "def extract_family(tax_list):\n",
        "  family = tax_list[-3].split(\"(\")[0]\n",
        "  return family\n",
        "\n",
        "taxonomic_data[\"family\"] = taxonomic_data[\"new_bact_comp\"].apply(extract_family)"
      ],
      "metadata": {
        "id": "bRxAnP7BVxsR"
      },
      "execution_count": null,
      "outputs": []
    },
    {
      "cell_type": "code",
      "source": [
        "def extract_order(tax_list):\n",
        "  order = tax_list[-4].split(\"(\")[0]\n",
        "  return order\n",
        "\n",
        "taxonomic_data[\"order\"] = taxonomic_data[\"new_bact_comp\"].apply(extract_order)"
      ],
      "metadata": {
        "id": "ubm-rPLzVzxU"
      },
      "execution_count": null,
      "outputs": []
    },
    {
      "cell_type": "code",
      "source": [
        "def extract_class(tax_list):\n",
        "  cl = tax_list[-5].split(\"(\")[0]\n",
        "  return cl\n",
        "\n",
        "taxonomic_data[\"clas\"] = taxonomic_data[\"new_bact_comp\"].apply(extract_class)"
      ],
      "metadata": {
        "id": "piWDD34OV1Rc"
      },
      "execution_count": null,
      "outputs": []
    },
    {
      "cell_type": "code",
      "source": [
        "def extract_phylum(tax_list):\n",
        "  phylum = tax_list[-6].split(\"(\")[0]\n",
        "  return phylum\n",
        "\n",
        "taxonomic_data[\"phylum\"] = taxonomic_data[\"new_bact_comp\"].apply(extract_phylum)"
      ],
      "metadata": {
        "id": "XkonLZ_hV2rS"
      },
      "execution_count": null,
      "outputs": []
    },
    {
      "cell_type": "code",
      "source": [
        "def extract_patient_id(tax_list):\n",
        "  patient_id = tax_list.split(\"_\")[0]\n",
        "  return patient_id\n",
        "\n",
        "taxonomic_data[\"patient_id\"] = taxonomic_data[\"rep_seq\"].apply(extract_patient_id)\n",
        "first_column = taxonomic_data.pop(\"patient_id\")\n",
        "taxonomic_data.insert(0,\"patient_id\",first_column)"
      ],
      "metadata": {
        "id": "MH-RzSDSV4Vw"
      },
      "execution_count": null,
      "outputs": []
    },
    {
      "cell_type": "code",
      "source": [
        "count_matrix.sort_values(\"total\").tail(5)\n",
        "count_matrix.index=count_matrix.Representative_Sequence\n",
        "count_matrix.drop([\"Representative_Sequence\", \"total\"], inplace=True, axis=1)"
      ],
      "metadata": {
        "id": "s6Wla8mZ4b-P"
      },
      "execution_count": null,
      "outputs": []
    },
    {
      "cell_type": "markdown",
      "source": [
        "Formatting Dataframes (transformation into total counts)"
      ],
      "metadata": {
        "id": "vEqHX_dPWUn0"
      }
    },
    {
      "cell_type": "code",
      "source": [
        "# There's a whole count matrix (count of every single possible raw sequence).\n",
        "# However, taxonomy has only been assigned to the representative sequences.\n",
        "\n",
        "cluster_dict = dict()\n",
        "\n",
        "for i in range(len(clustered_data)):\n",
        "  rep_seq = clustered_data.iloc[i][0]\n",
        "  list_of_seqs = clustered_data.iloc[i][1].split(',')\n",
        "  for seq in list_of_seqs:\n",
        "    cluster_dict[seq] = rep_seq\n",
        "\n",
        "aggregated_count_matrix = count_matrix.groupby(cluster_dict, axis=0).sum()\n",
        "\n",
        "# only sequence ids that are in both datasets\n",
        "taxonomic_data.index = taxonomic_data.rep_seq\n",
        "taxonomic_data.loc[aggregated_count_matrix.index]\n",
        "\n",
        "# same order of sample names in count matrix and sample data\n",
        "sample_data.index = sample_data.sample_name\n",
        "aggregated_count_matrix = aggregated_count_matrix[sample_data.index]"
      ],
      "metadata": {
        "id": "PQiswtlHWejM"
      },
      "execution_count": null,
      "outputs": []
    },
    {
      "cell_type": "markdown",
      "source": [
        "**Results/Analysis**"
      ],
      "metadata": {
        "id": "FkgHLEFLYzAW"
      }
    },
    {
      "cell_type": "markdown",
      "source": [
        "*FEV1 Correlation with bacteria clusters*"
      ],
      "metadata": {
        "id": "u0XlqsuOUUPV"
      }
    },
    {
      "cell_type": "code",
      "source": [
        "# calculating significance value\n",
        "\n",
        "seq_list = []\n",
        "count = 0\n",
        "\n",
        "for index in range(len(clustered_data)):\n",
        "  seq_list = clustered_data[1][index].split(\",\")\n",
        "  if len(seq_list) >= 300:\n",
        "    count += 1\n",
        "  seq_list = []\n",
        "\n",
        "print(count)\n",
        "a_level = 0.05/count\n",
        "print(a_level)"
      ],
      "metadata": {
        "colab": {
          "base_uri": "https://localhost:8080/"
        },
        "id": "DktBSCqXY1Vi",
        "outputId": "49ac3e80-2fe8-49d8-a7d8-67d89a6417e9"
      },
      "execution_count": null,
      "outputs": [
        {
          "output_type": "stream",
          "name": "stdout",
          "text": [
            "124\n",
            "0.0004032258064516129\n"
          ]
        }
      ]
    },
    {
      "cell_type": "code",
      "source": [
        "from scipy import stats\n",
        "\n",
        "fev1 = pd.to_numeric(sample_data.fev1, errors='coerce')\n",
        "pvalues = []\n",
        "bacteria_names = []\n",
        "corr_values = []\n",
        "for bact_name in aggregated_count_matrix.index:\n",
        "  bacteria_counts = aggregated_count_matrix.loc[bact_name]\n",
        "  result = stats.spearmanr(fev1, bacteria_counts, nan_policy='omit')\n",
        "  if result.pvalue < a_level:\n",
        "    pvalues.append(result.pvalue)\n",
        "    bacteria_names.append(bact_name)\n",
        "    corr_values.append(result.correlation)\n",
        "\n",
        "min_index = np.argmin(pvalues)\n",
        "print(pvalues[min_index])\n",
        "print(bacteria_names[min_index])\n",
        "print(corr_values[min_index])\n",
        "\n",
        "bacteria_counts = aggregated_count_matrix.loc[bacteria_names[min_index]]\n",
        "plt.scatter(fev1, bacteria_counts)"
      ],
      "metadata": {
        "colab": {
          "base_uri": "https://localhost:8080/",
          "height": 336
        },
        "id": "usZMfXbXcLc6",
        "outputId": "7dd5f1cd-1906-445b-ad2c-cd7d3ad27b9b"
      },
      "execution_count": null,
      "outputs": [
        {
          "output_type": "stream",
          "name": "stdout",
          "text": [
            "9.863620411774632e-07\n",
            "13507.SD239.T_13466\n",
            "0.6620662013756244\n"
          ]
        },
        {
          "output_type": "execute_result",
          "data": {
            "text/plain": [
              "<matplotlib.collections.PathCollection at 0x7f9c318b4890>"
            ]
          },
          "metadata": {},
          "execution_count": 50
        },
        {
          "output_type": "display_data",
          "data": {
            "text/plain": [
              "<Figure size 432x288 with 1 Axes>"
            ],
            "image/png": "[encoded data removed]"
          },
          "metadata": {
            "needs_background": "light"
          }
        }
      ]
    },
    {
      "cell_type": "code",
      "source": [
        "for x in bacteria_names:\n",
        "  print(taxonomic_data.loc[x]['genus'])"
      ],
      "metadata": {
        "id": "CE1twC7AfBWj",
        "colab": {
          "base_uri": "https://localhost:8080/"
        },
        "outputId": "0e1a2498-4df7-417a-c027-6eac0a230515"
      },
      "execution_count": null,
      "outputs": [
        {
          "output_type": "stream",
          "name": "stdout",
          "text": [
            "Leptotrichia\n",
            "Fusobacterium\n",
            "\"Bacteroidetes\"_unclassified\n",
            "Actinomyces\n"
          ]
        }
      ]
    },
    {
      "cell_type": "code",
      "source": [
        "print(corr_values)\n",
        "print(pvalues)"
      ],
      "metadata": {
        "colab": {
          "base_uri": "https://localhost:8080/"
        },
        "id": "d_w1uQdab8_L",
        "outputId": "de20ba31-1821-4471-9189-f93d0e2cfc01"
      },
      "execution_count": null,
      "outputs": [
        {
          "output_type": "stream",
          "name": "stdout",
          "text": [
            "[0.5165218005145228, 0.6620662013756244, 0.510383665646863, 0.5506738325463627]\n",
            "[0.0003314703253426188, 9.863620411774632e-07, 0.0004008705565842596, 0.0001074451812534369]\n"
          ]
        }
      ]
    },
    {
      "cell_type": "code",
      "source": [
        "bacteria_counts = aggregated_count_matrix.loc[bacteria_names[3]]\n",
        "plt.scatter(fev1, bacteria_counts)\n",
        "plt.xlabel(\"FEV1 Score\")\n",
        "plt.ylabel(\"Number of Identifications Per Patient\")\n",
        "plt.title(\"Correlation of Actinomyces Bacteria Cluster with FEV1\")"
      ],
      "metadata": {
        "colab": {
          "base_uri": "https://localhost:8080/",
          "height": 313
        },
        "id": "ExRhKNs_09ly",
        "outputId": "de1c0317-2858-4e45-c560-4b5ca7e9b568"
      },
      "execution_count": null,
      "outputs": [
        {
          "output_type": "execute_result",
          "data": {
            "text/plain": [
              "Text(0.5, 1.0, 'Correlation of Actinomyces Bacteria Cluster with FEV1')"
            ]
          },
          "metadata": {},
          "execution_count": 55
        },
        {
          "output_type": "display_data",
          "data": {
            "text/plain": [
              "<Figure size 432x288 with 1 Axes>"
            ],
            "image/png": "[encoded data removed]"
          },
          "metadata": {
            "needs_background": "light"
          }
        }
      ]
    },
    {
      "cell_type": "markdown",
      "source": [
        "*FEV1 Correlation with genus, family, order, class, phylum*"
      ],
      "metadata": {
        "id": "RhNUnQSzYVNB"
      }
    },
    {
      "cell_type": "code",
      "source": [
        "genus_dict = dict()\n",
        "for rep_seq in taxonomic_data.index:\n",
        "  genus = taxonomic_data.loc[rep_seq].genus\n",
        "  genus_dict[rep_seq] = genus\n",
        "\n",
        "genus_aggregated_count_matrix = aggregated_count_matrix.groupby(genus_dict).sum()\n",
        "\n",
        "genus_aggregated_count_matrix = genus_aggregated_count_matrix[sample_data.index]"
      ],
      "metadata": {
        "id": "J8PmuFhIZFSD"
      },
      "execution_count": null,
      "outputs": []
    },
    {
      "cell_type": "code",
      "source": [
        "fev1 = pd.to_numeric(sample_data.fev1, errors='coerce')\n",
        "pvalues_genus = []\n",
        "genus_names = []\n",
        "corr_genus = []\n",
        "\n",
        "for genus in genus_aggregated_count_matrix.index:\n",
        "  genus_counts = genus_aggregated_count_matrix.loc[genus]\n",
        "  result = stats.spearmanr(fev1, genus_counts, nan_policy='omit')\n",
        "  if result.pvalue < a_level:\n",
        "    pvalues_genus.append(result.pvalue)\n",
        "    genus_names.append(genus)\n",
        "    corr_genus.append(result.correlation)\n",
        "\n",
        "print(genus_names)\n",
        "\n",
        "min_index = np.argmin(pvalues_genus)\n",
        "print(pvalues_genus[min_index])\n",
        "print(genus_names[min_index])\n",
        "print(corr_genus[min_index])\n",
        "\n",
        "genus_counts = genus_aggregated_count_matrix.loc[genus_names[min_index]]\n",
        "plt.scatter(fev1, genus_counts)\n",
        "plt.xlabel(\"FEV1 Score\")\n",
        "plt.ylabel(\"Number of Identifications Per Patient\")\n",
        "plt.title(\"Correlation of Leptotrichiaceae Genus with FEV1\")"
      ],
      "metadata": {
        "id": "YyizbyxCYYO2",
        "colab": {
          "base_uri": "https://localhost:8080/",
          "height": 384
        },
        "outputId": "b114708a-af6f-458c-d8d9-c71093d35c7c"
      },
      "execution_count": null,
      "outputs": [
        {
          "output_type": "stream",
          "name": "stdout",
          "text": [
            "['\"Leptotrichiaceae\"_unclassified']\n",
            "0.00014362564848371704\n",
            "\"Leptotrichiaceae\"_unclassified\n",
            "0.5422189824883277\n"
          ]
        },
        {
          "output_type": "execute_result",
          "data": {
            "text/plain": [
              "Text(0.5, 1.0, 'Correlation of Leptotrichiaceae Genus with FEV1')"
            ]
          },
          "metadata": {},
          "execution_count": 59
        },
        {
          "output_type": "display_data",
          "data": {
            "text/plain": [
              "<Figure size 432x288 with 1 Axes>"
            ],
            "image/png": "[encoded data removed]"
          },
          "metadata": {
            "needs_background": "light"
          }
        }
      ]
    },
    {
      "cell_type": "code",
      "source": [
        "family_dict = dict()\n",
        "for rep_seq in taxonomic_data.index:\n",
        "  family = taxonomic_data.loc[rep_seq].family\n",
        "  family_dict[rep_seq] = family\n",
        "\n",
        "family_aggregated_count_matrix = aggregated_count_matrix.groupby(family_dict).sum()\n",
        "\n",
        "family_aggregated_count_matrix = family_aggregated_count_matrix[sample_data.index]"
      ],
      "metadata": {
        "id": "184NjXTYaVnL"
      },
      "execution_count": null,
      "outputs": []
    },
    {
      "cell_type": "code",
      "source": [
        "fev1 = pd.to_numeric(sample_data.fev1, errors='coerce')\n",
        "pvalues_family = []\n",
        "family_names = []\n",
        "corr_family = []\n",
        "\n",
        "for family in family_aggregated_count_matrix.index:\n",
        "  family_counts = family_aggregated_count_matrix.loc[family]\n",
        "  result = stats.spearmanr(fev1, family_counts, nan_policy='omit')\n",
        "  if result.pvalue < a_level:\n",
        "    pvalues_family.append(result.pvalue)\n",
        "    family_names.append(family)\n",
        "    corr_family.append(result.correlation)\n",
        "\n",
        "print(family_names)\n",
        "\n",
        "min_index = np.argmin(pvalues_family)\n",
        "print(pvalues_family[min_index])\n",
        "print(family_names[min_index])\n",
        "print(corr_family[min_index])\n",
        "\n",
        "family_counts = family_aggregated_count_matrix.loc[family_names[min_index]]\n",
        "plt.scatter(fev1, family_counts)\n",
        "plt.xlabel(\"FEV1 Score\")\n",
        "plt.ylabel(\"Number of Identifications Per Patient\")\n",
        "plt.title(\"Correlation of Enterobacteriaceae Family with FEV1\")"
      ],
      "metadata": {
        "colab": {
          "base_uri": "https://localhost:8080/",
          "height": 384
        },
        "id": "VGLPl2gfaoga",
        "outputId": "d5c11156-c9f0-43a8-b691-64b12fd42f2a"
      },
      "execution_count": null,
      "outputs": [
        {
          "output_type": "stream",
          "name": "stdout",
          "text": [
            "['Enterobacteriaceae']\n",
            "0.00023382407694558626\n",
            "Enterobacteriaceae\n",
            "0.5274953805752751\n"
          ]
        },
        {
          "output_type": "execute_result",
          "data": {
            "text/plain": [
              "Text(0.5, 1.0, 'Correlation of Enterobacteriaceae Family with FEV1')"
            ]
          },
          "metadata": {},
          "execution_count": 60
        },
        {
          "output_type": "display_data",
          "data": {
            "text/plain": [
              "<Figure size 432x288 with 1 Axes>"
            ],
            "image/png": "[encoded data removed]"
          },
          "metadata": {
            "needs_background": "light"
          }
        }
      ]
    },
    {
      "cell_type": "code",
      "source": [
        "order_dict = dict()\n",
        "for rep_seq in taxonomic_data.index:\n",
        "  order = taxonomic_data.loc[rep_seq].order\n",
        "  order_dict[rep_seq] = order\n",
        "\n",
        "order_aggregated_count_matrix = aggregated_count_matrix.groupby(order_dict).sum()\n",
        "\n",
        "order_aggregated_count_matrix = order_aggregated_count_matrix[sample_data.index]"
      ],
      "metadata": {
        "id": "s-t80GTizKVB"
      },
      "execution_count": null,
      "outputs": []
    },
    {
      "cell_type": "code",
      "source": [
        "fev1 = pd.to_numeric(sample_data.fev1, errors='coerce')\n",
        "pvalues_order = []\n",
        "order_names = []\n",
        "\n",
        "for order in order_aggregated_count_matrix.index:\n",
        "  order_counts = order_aggregated_count_matrix.loc[order]\n",
        "  result = stats.spearmanr(fev1, order_counts, nan_policy='omit')\n",
        "  if result.pvalue < a_level:\n",
        "    pvalues_order.append(result.pvalue)\n",
        "    order_names.append(order)\n",
        "\n",
        "print(order_names)\n",
        "\n",
        "min_index = np.argmin(pvalues_order)\n",
        "print(pvalues_order[min_index])\n",
        "print(order_names[min_index])\n",
        "\n",
        "order_counts = order_aggregated_count_matrix.loc[order_names[min_index]]\n",
        "plt.scatter(fev1, order_counts)"
      ],
      "metadata": {
        "colab": {
          "base_uri": "https://localhost:8080/",
          "height": 336
        },
        "id": "vPob09F0zNVi",
        "outputId": "1e5e0658-a420-4734-aac4-77ae3266b85f"
      },
      "execution_count": null,
      "outputs": [
        {
          "output_type": "stream",
          "name": "stdout",
          "text": [
            "['\"Enterobacteriales\"']\n",
            "0.00023382407694558626\n",
            "\"Enterobacteriales\"\n"
          ]
        },
        {
          "output_type": "execute_result",
          "data": {
            "text/plain": [
              "<matplotlib.collections.PathCollection at 0x7f9c3151d950>"
            ]
          },
          "metadata": {},
          "execution_count": 61
        },
        {
          "output_type": "display_data",
          "data": {
            "text/plain": [
              "<Figure size 432x288 with 1 Axes>"
            ],
            "image/png": "[encoded data removed]"
          },
          "metadata": {
            "needs_background": "light"
          }
        }
      ]
    },
    {
      "cell_type": "code",
      "source": [
        "clas_dict = dict()\n",
        "for rep_seq in taxonomic_data.index:\n",
        "  clas = taxonomic_data.loc[rep_seq].clas\n",
        "  clas_dict[rep_seq] = clas\n",
        "\n",
        "clas_aggregated_count_matrix = aggregated_count_matrix.groupby(clas_dict).sum()\n",
        "\n",
        "clas_aggregated_count_matrix = clas_aggregated_count_matrix[sample_data.index]"
      ],
      "metadata": {
        "id": "iYnuXdOTiikD"
      },
      "execution_count": null,
      "outputs": []
    },
    {
      "cell_type": "code",
      "source": [
        "fev1 = pd.to_numeric(sample_data.fev1, errors='coerce')\n",
        "pvalues_clas = []\n",
        "clas_names = []\n",
        "\n",
        "for clas in clas_aggregated_count_matrix.index:\n",
        "  clas_counts = clas_aggregated_count_matrix.loc[clas]\n",
        "  result = stats.spearmanr(fev1, clas_counts, nan_policy='omit')\n",
        "  if result.pvalue < a_level:\n",
        "    pvalues_clas.append(result.pvalue)\n",
        "    clas_names.append(clas)\n",
        "\n",
        "print(clas_names)\n",
        "\n",
        "#min_index = np.argmin(pvalues_clas)\n",
        "#print(pvalues_clas[min_index])\n",
        "#print(clas_names[min_index])\n",
        "\n",
        "#bacteria_counts = clas_aggregated_count_matrix.loc[clas_names[min_index]]\n",
        "#plt.scatter(fev1, clas_counts)"
      ],
      "metadata": {
        "colab": {
          "base_uri": "https://localhost:8080/"
        },
        "id": "RYJWFmixy3Bd",
        "outputId": "c29eb082-ffc5-4980-982d-bffb5d02a3c6"
      },
      "execution_count": null,
      "outputs": [
        {
          "output_type": "stream",
          "name": "stdout",
          "text": [
            "[]\n"
          ]
        }
      ]
    },
    {
      "cell_type": "code",
      "source": [
        "phylum_dict = dict()\n",
        "for rep_seq in taxonomic_data.index:\n",
        "  phylum = taxonomic_data.loc[rep_seq].phylum\n",
        "  phylum_dict[rep_seq] = phylum\n",
        "\n",
        "phylum_aggregated_count_matrix = aggregated_count_matrix.groupby(phylum_dict).sum()\n",
        "\n",
        "phylum_aggregated_count_matrix = phylum_aggregated_count_matrix[sample_data.index]"
      ],
      "metadata": {
        "id": "ctw3HF13y6L9"
      },
      "execution_count": null,
      "outputs": []
    },
    {
      "cell_type": "code",
      "source": [
        "fev1 = pd.to_numeric(sample_data.fev1, errors='coerce')\n",
        "pvalues_phylum = []\n",
        "phylum_names = []\n",
        "\n",
        "for phylum in phylum_aggregated_count_matrix.index:\n",
        "  phylum_counts = phylum_aggregated_count_matrix.loc[phylum]\n",
        "  result = stats.spearmanr(fev1, phylum_counts, nan_policy='omit')\n",
        "  if result.pvalue < a_level:\n",
        "    pvalues_phylum.append(result.pvalue)\n",
        "    phylum_names.append(phylum)\n",
        "\n",
        "print(phylum_names)\n",
        "\n",
        "#min_index = np.argmin(pvalues_phylum)\n",
        "#print(pvalues_phylum[min_index])\n",
        "#print(phylum_names[min_index])\n",
        "\n",
        "#bacteria_counts = phylum_aggregated_count_matrix.loc[phylum_names[min_index]]\n",
        "#plt.scatter(fev1, phylum_counts)"
      ],
      "metadata": {
        "colab": {
          "base_uri": "https://localhost:8080/"
        },
        "id": "RoNOX6MazhJ3",
        "outputId": "91c1b47f-56d4-4e69-8131-8924f39cb69e"
      },
      "execution_count": null,
      "outputs": [
        {
          "output_type": "stream",
          "name": "stdout",
          "text": [
            "[]\n"
          ]
        }
      ]
    },
    {
      "cell_type": "markdown",
      "source": [
        "Correlations with FEV1/FVC Ratio"
      ],
      "metadata": {
        "id": "dmcIwA5Dzuv7"
      }
    },
    {
      "cell_type": "code",
      "source": [
        "ratio_list = [0] * 51\n",
        "ratio_list[0] = 'n/a'\n",
        "ratio_list[1] = 'n/a'\n",
        "ratio_list[2] = 'n/a'\n",
        "ratio_list[-1] = 'n/a'\n",
        "ratio_list[-5] = 'n/a'\n",
        "ratio_list[-13] = 'n/a'\n",
        "ratio_list[-19] = 'n/a'\n",
        "\n",
        "for row in range(51):\n",
        "  if ratio_list[row] != 'n/a':\n",
        "    ratio_list[row] = [int(sample_data[\"fev1\"].iloc[row])/int(sample_data[\"fvc\"].iloc[row])]\n",
        "\n",
        "ratio_list\n",
        "\n",
        "sample_data[\"ratio\"] = [0] * 51\n",
        "sample_data.iloc[0] = 'n/a'\n",
        "sample_data.iloc[1] = 'n/a'\n",
        "sample_data.iloc[2] = 'n/a'\n",
        "sample_data.iloc[-1] = 'n/a'\n",
        "sample_data.iloc[-5] = 'n/a'\n",
        "sample_data.iloc[-13] = 'n/a'\n",
        "sample_data.iloc[-19] = 'n/a'\n",
        "\n",
        "for row in range(51):\n",
        "  if ratio_list[row] != 'n/a':\n",
        "    sample_data[\"ratio\"].iloc[row] = (float(ratio_list[row][0])) * 100"
      ],
      "metadata": {
        "id": "pQ5iv77rzooV"
      },
      "execution_count": null,
      "outputs": []
    },
    {
      "cell_type": "code",
      "source": [
        "ratio = pd.to_numeric(sample_data.ratio, errors='coerce')\n",
        "pvalues = []\n",
        "bacteria_names = []\n",
        "for bact_name in aggregated_count_matrix.index:\n",
        "  bacteria_counts = aggregated_count_matrix.loc[bact_name]\n",
        "  result = stats.spearmanr(ratio, bacteria_counts, nan_policy='omit')\n",
        "  if result.pvalue < a_level:\n",
        "    pvalues.append(result.pvalue)\n",
        "    bacteria_names.append(bact_name)\n",
        "\n",
        "print(bacteria_names)\n",
        "\n",
        "#min_index = np.argmin(pvalues)\n",
        "#print(pvalues[min_index])\n",
        "#print(bacteria_names[min_index])\n",
        "\n",
        "#bacteria_counts = aggregated_count_matrix.loc[bacteria_names[min_index]]\n",
        "#plt.scatter(ratio, bacteria_counts)"
      ],
      "metadata": {
        "colab": {
          "base_uri": "https://localhost:8080/"
        },
        "id": "d2md5hvNXLKZ",
        "outputId": "82e1bf64-eda1-4472-d9aa-0ea283158f17"
      },
      "execution_count": null,
      "outputs": [
        {
          "output_type": "stream",
          "name": "stdout",
          "text": [
            "[]\n"
          ]
        }
      ]
    },
    {
      "cell_type": "code",
      "source": [
        "ratio = pd.to_numeric(sample_data.ratio, errors='coerce')\n",
        "pvalues_genus = []\n",
        "genus_names = []\n",
        "\n",
        "for genus in genus_aggregated_count_matrix.index:\n",
        "  genus_counts = genus_aggregated_count_matrix.loc[genus]\n",
        "  result = stats.spearmanr(ratio, genus_counts, nan_policy='omit')\n",
        "  if result.pvalue < a_level:\n",
        "    pvalues_genus.append(result.pvalue)\n",
        "    genus_names.append(genus)\n",
        "\n",
        "print(genus_names)\n",
        "\n",
        "#min_index = np.argmin(pvalues_genus)\n",
        "#print(pvalues_genus[min_index])\n",
        "#print(genus_names[min_index])\n",
        "\n",
        "#bacteria_counts = genus_aggregated_count_matrix.loc[genus_names[min_index]]\n",
        "#plt.scatter(ratio, genus_counts)"
      ],
      "metadata": {
        "colab": {
          "base_uri": "https://localhost:8080/"
        },
        "id": "bPE5RvfdXaPq",
        "outputId": "e5e7b28c-35da-48bf-df38-b614a20d6775"
      },
      "execution_count": null,
      "outputs": [
        {
          "output_type": "stream",
          "name": "stdout",
          "text": [
            "[]\n"
          ]
        }
      ]
    },
    {
      "cell_type": "code",
      "source": [
        "ratio = pd.to_numeric(sample_data.ratio, errors='coerce')\n",
        "pvalues_family = []\n",
        "family_names = []\n",
        "\n",
        "for family in family_aggregated_count_matrix.index:\n",
        "  family_counts = family_aggregated_count_matrix.loc[family]\n",
        "  result = stats.spearmanr(ratio, family_counts, nan_policy='omit')\n",
        "  if result.pvalue < a_level:\n",
        "    pvalues_family.append(result.pvalue)\n",
        "    family_names.append(family)\n",
        "\n",
        "print(family_names)\n",
        "\n",
        "#min_index = np.argmin(pvalues_family)\n",
        "#print(pvalues_family[min_index])\n",
        "#print(family_names[min_index])\n",
        "\n",
        "#bacteria_counts = family_aggregated_count_matrix.loc[family_names[min_index]]\n",
        "#plt.scatter(ratio, family_counts)"
      ],
      "metadata": {
        "colab": {
          "base_uri": "https://localhost:8080/"
        },
        "id": "wvUyn54AXtOH",
        "outputId": "8b048bbe-2412-4cee-aceb-ff138b43fde8"
      },
      "execution_count": null,
      "outputs": [
        {
          "output_type": "stream",
          "name": "stdout",
          "text": [
            "[]\n"
          ]
        }
      ]
    },
    {
      "cell_type": "code",
      "source": [
        "ratio = pd.to_numeric(sample_data.ratio, errors='coerce')\n",
        "pvalues_order = []\n",
        "order_names = []\n",
        "\n",
        "for order in order_aggregated_count_matrix.index:\n",
        "  order_counts = order_aggregated_count_matrix.loc[order]\n",
        "  result = stats.spearmanr(ratio, order_counts, nan_policy='omit')\n",
        "  if result.pvalue < a_level:\n",
        "    pvalues_order.append(result.pvalue)\n",
        "    order_names.append(order)\n",
        "\n",
        "print(order_names)\n",
        "\n",
        "#min_index = np.argmin(pvalues_order)\n",
        "#print(pvalues_order[min_index])\n",
        "#print(order_names[min_index])\n",
        "\n",
        "#bacteria_counts = order_aggregated_count_matrix.loc[order_names[min_index]]\n",
        "#plt.scatter(ratio, order_counts)"
      ],
      "metadata": {
        "colab": {
          "base_uri": "https://localhost:8080/"
        },
        "id": "-d3QkKyxX59j",
        "outputId": "3a1d3416-5df8-4ef7-c15e-d78932888dec"
      },
      "execution_count": null,
      "outputs": [
        {
          "output_type": "stream",
          "name": "stdout",
          "text": [
            "[]\n"
          ]
        }
      ]
    },
    {
      "cell_type": "code",
      "source": [
        "ratio = pd.to_numeric(sample_data.ratio, errors='coerce')\n",
        "pvalues_clas = []\n",
        "clas_names = []\n",
        "\n",
        "for clas in clas_aggregated_count_matrix.index:\n",
        "  clas_counts = clas_aggregated_count_matrix.loc[clas]\n",
        "  result = stats.spearmanr(ratio, clas_counts, nan_policy='omit')\n",
        "  if result.pvalue < a_level:\n",
        "    pvalues_clas.append(result.pvalue)\n",
        "    clas_names.append(clas)\n",
        "\n",
        "print(clas_names)\n",
        "\n",
        "#min_index = np.argmin(pvalues_clas)\n",
        "#print(pvalues_clas[min_index])\n",
        "#print(clas_names[min_index])\n",
        "\n",
        "#bacteria_counts = clas_aggregated_count_matrix.loc[clas_names[min_index]]\n",
        "#plt.scatter(ratio, clas_counts)"
      ],
      "metadata": {
        "colab": {
          "base_uri": "https://localhost:8080/"
        },
        "id": "G7LXLQS7YMN5",
        "outputId": "13399716-e779-4ebc-8421-85a74a21bcf2"
      },
      "execution_count": null,
      "outputs": [
        {
          "output_type": "stream",
          "name": "stdout",
          "text": [
            "[]\n"
          ]
        }
      ]
    },
    {
      "cell_type": "code",
      "source": [
        "ratio = pd.to_numeric(sample_data.ratio, errors='coerce')\n",
        "pvalues_phylum = []\n",
        "phylum_names = []\n",
        "\n",
        "for phylum in phylum_aggregated_count_matrix.index:\n",
        "  phylum_counts = phylum_aggregated_count_matrix.loc[phylum]\n",
        "  result = stats.spearmanr(ratio, phylum_counts, nan_policy='omit')\n",
        "  if result.pvalue < a_level:\n",
        "    pvalues_phylum.append(result.pvalue)\n",
        "    phylum_names.append(phylum)\n",
        "\n",
        "print(phylum_names)\n",
        "\n",
        "#min_index = np.argmin(pvalues_phylum)\n",
        "#print(pvalues_phylum[min_index])\n",
        "#print(phylum_names[min_index])\n",
        "\n",
        "#bacteria_counts = phylum_aggregated_count_matrix.loc[phylum_names[min_index]]\n",
        "#plt.scatter(ratio, phylum_counts)"
      ],
      "metadata": {
        "colab": {
          "base_uri": "https://localhost:8080/"
        },
        "id": "oDizMiRCYSES",
        "outputId": "eb06c440-4e53-4f5b-f7e7-a85fd3fc5459"
      },
      "execution_count": null,
      "outputs": [
        {
          "output_type": "stream",
          "name": "stdout",
          "text": [
            "[]\n"
          ]
        }
      ]
    }
  ]
}