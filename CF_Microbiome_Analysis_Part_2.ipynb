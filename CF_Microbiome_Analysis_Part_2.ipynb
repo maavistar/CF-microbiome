{
  "nbformat": 4,
  "nbformat_minor": 0,
  "metadata": {
    "colab": {
      "provenance": [],
      "include_colab_link": true
    },
    "kernelspec": {
      "name": "python3",
      "display_name": "Python 3"
    },
    "language_info": {
      "name": "python"
    },
    "gpuClass": "standard"
  },
  "cells": [
    {
      "cell_type": "markdown",
      "metadata": {
        "id": "view-in-github",
        "colab_type": "text"
      },
      "source": [
        "<a href=\"https://colab.research.google.com/github/maavistar/CF-microbiome/blob/master/CF_Microbiome_Analysis_Part_2.ipynb\" target=\"_parent\"><img src=\"https://colab.research.google.com/assets/colab-badge.svg\" alt=\"Open In Colab\"/></a>"
      ]
    },
    {
      "cell_type": "code",
      "execution_count": null,
      "metadata": {
        "id": "KT4hknlwT3I2"
      },
      "outputs": [],
      "source": [
        "import pandas as pd\n",
        "import numpy as np\n",
        "import matplotlib.pyplot as plt\n",
        "\n",
        "\n",
        "#Eric's imports\n",
        "import tensorflow as tf\n",
        "from sklearn.model_selection import train_test_split\n",
        "from scipy.stats import linregress\n",
        "from tensorflow import keras\n",
        "from tensorflow.keras import layers\n",
        "from sklearn.metrics import mean_squared_error\n",
        "from scipy.stats import linregress"
      ]
    },
    {
      "cell_type": "code",
      "source": [
        "!gdown --id 1aU9-VffFEZrcB5yG4QzqYJ-4QfW59X2E # sample info\n",
        "!gdown --id 1Jmp4PvgPy8YjaiOcFa7baY-3tkCZO9Vs # taxonomic data\n",
        "!gdown --id 1jeHFeaApOIBOjr71TvnxbYfvzEU5ZJ3v # count matrix\n",
        "!gdown --id 1iNQpFfidd5giZ1Hg7ItrVPvayNYN9SG9 # clustered data\n",
        "!gdown --id 1RnkL8i3PkqfseIZHLFSuSwRuLeSc4Bnl # clustered names"
      ],
      "metadata": {
        "colab": {
          "base_uri": "https://localhost:8080/"
        },
        "id": "_w3zmoDQUBME",
        "outputId": "5bf8daf9-c0d4-46bb-ad89-1c52c7164016"
      },
      "execution_count": null,
      "outputs": [
        {
          "output_type": "stream",
          "name": "stdout",
          "text": [
            "/usr/local/lib/python3.8/dist-packages/gdown/cli.py:127: FutureWarning: Option `--id` was deprecated in version 4.3.1 and will be removed in 5.0. You don't need to pass it anymore to use a file ID.\n",
            "  warnings.warn(\n",
            "Downloading...\n",
            "From: https://drive.google.com/uc?id=1aU9-VffFEZrcB5yG4QzqYJ-4QfW59X2E\n",
            "To: /content/sample_info.txt\n",
            "100% 34.7k/34.7k [00:00<00:00, 26.1MB/s]\n",
            "/usr/local/lib/python3.8/dist-packages/gdown/cli.py:127: FutureWarning: Option `--id` was deprecated in version 4.3.1 and will be removed in 5.0. You don't need to pass it anymore to use a file ID.\n",
            "  warnings.warn(\n",
            "Downloading...\n",
            "From: https://drive.google.com/uc?id=1Jmp4PvgPy8YjaiOcFa7baY-3tkCZO9Vs\n",
            "To: /content/taxonomic_data.txt.taxonomy\n",
            "100% 7.03M/7.03M [00:00<00:00, 89.4MB/s]\n",
            "/usr/local/lib/python3.8/dist-packages/gdown/cli.py:127: FutureWarning: Option `--id` was deprecated in version 4.3.1 and will be removed in 5.0. You don't need to pass it anymore to use a file ID.\n",
            "  warnings.warn(\n",
            "Downloading...\n",
            "From: https://drive.google.com/uc?id=1jeHFeaApOIBOjr71TvnxbYfvzEU5ZJ3v\n",
            "To: /content/count_table.txt.count_table\n",
            "100% 34.2M/34.2M [00:00<00:00, 189MB/s]\n",
            "/usr/local/lib/python3.8/dist-packages/gdown/cli.py:127: FutureWarning: Option `--id` was deprecated in version 4.3.1 and will be removed in 5.0. You don't need to pass it anymore to use a file ID.\n",
            "  warnings.warn(\n",
            "Downloading...\n",
            "From: https://drive.google.com/uc?id=1iNQpFfidd5giZ1Hg7ItrVPvayNYN9SG9\n",
            "To: /content/clustered_data.txt.fasta\n",
            "100% 12.5M/12.5M [00:00<00:00, 69.8MB/s]\n",
            "/usr/local/lib/python3.8/dist-packages/gdown/cli.py:127: FutureWarning: Option `--id` was deprecated in version 4.3.1 and will be removed in 5.0. You don't need to pass it anymore to use a file ID.\n",
            "  warnings.warn(\n",
            "Downloading...\n",
            "From: https://drive.google.com/uc?id=1RnkL8i3PkqfseIZHLFSuSwRuLeSc4Bnl\n",
            "To: /content/clustered_names.txt.names\n",
            "100% 18.1M/18.1M [00:00<00:00, 79.4MB/s]\n"
          ]
        }
      ]
    },
    {
      "cell_type": "code",
      "source": [
        "sample_data = pd.read_table(\"sample_info.txt\")\n",
        "taxonomic_data = pd.read_table(\"taxonomic_data.txt.taxonomy\", header=None)\n",
        "count_matrix = pd.read_table(\"count_table.txt.count_table\")\n",
        "clustered_data = pd.read_table(\"clustered_names.txt.names\", header=None)"
      ],
      "metadata": {
        "id": "ydsRo3pRUptr"
      },
      "execution_count": null,
      "outputs": []
    },
    {
      "cell_type": "code",
      "source": [
        "count_matrix"
      ],
      "metadata": {
        "colab": {
          "base_uri": "https://localhost:8080/",
          "height": 488
        },
        "id": "tMtD0VQZyB0i",
        "outputId": "13ac70c8-9130-435c-9a21-0e74f05faca1"
      },
      "execution_count": null,
      "outputs": [
        {
          "output_type": "execute_result",
          "data": {
            "text/plain": [
              "       Representative_Sequence  total  13507.RTSF.NTC1  13507.RTSF.NTC2  \\\n",
              "0            13507.RTSF.NTC1_0      1                1                0   \n",
              "1            13507.RTSF.NTC1_1     15               15                0   \n",
              "2            13507.RTSF.NTC1_2      1                1                0   \n",
              "3            13507.RTSF.NTC1_3      7                7                0   \n",
              "4            13507.RTSF.NTC1_4      1                1                0   \n",
              "...                        ...    ...              ...              ...   \n",
              "276863     13507.SH043.T_18243      2                0                0   \n",
              "276864     13507.SH043.T_18245      1                0                0   \n",
              "276865     13507.SH043.T_18247      1                0                0   \n",
              "276866     13507.SH043.T_18248      1                0                0   \n",
              "276867     13507.SH043.T_18249      1                0                0   \n",
              "\n",
              "        13507.RTSF.NTC3  13507.SD200.N  13507.SD200.T  13507.SD231.N  \\\n",
              "0                     0              0              0              0   \n",
              "1                     0              0              0              0   \n",
              "2                     0              0              0              0   \n",
              "3                     0              0              0              0   \n",
              "4                     0              0              0              0   \n",
              "...                 ...            ...            ...            ...   \n",
              "276863                0              0              0              0   \n",
              "276864                0              0              0              0   \n",
              "276865                0              0              0              0   \n",
              "276866                0              0              0              0   \n",
              "276867                0              0              0              0   \n",
              "\n",
              "        13507.SD231.T  13507.SD239.N  ...  13507.SH036.N  13507.SH036.T  \\\n",
              "0                   0              0  ...              0              0   \n",
              "1                   0              0  ...              0              0   \n",
              "2                   0              0  ...              0              0   \n",
              "3                   0              0  ...              0              0   \n",
              "4                   0              0  ...              0              0   \n",
              "...               ...            ...  ...            ...            ...   \n",
              "276863              0              0  ...              0              0   \n",
              "276864              0              0  ...              0              0   \n",
              "276865              0              0  ...              0              0   \n",
              "276866              0              0  ...              0              0   \n",
              "276867              0              0  ...              0              0   \n",
              "\n",
              "        13507.SH037.N  13507.SH037.T  13507.SH038.N  13507.SH038.T  \\\n",
              "0                   0              0              0              0   \n",
              "1                   0              0              0              0   \n",
              "2                   0              0              0              0   \n",
              "3                   0              0              0              0   \n",
              "4                   0              0              0              0   \n",
              "...               ...            ...            ...            ...   \n",
              "276863              0              0              0              0   \n",
              "276864              0              0              0              0   \n",
              "276865              0              0              0              0   \n",
              "276866              0              0              0              0   \n",
              "276867              0              0              0              0   \n",
              "\n",
              "        13507.SH039.N  13507.SH039.T  13507.SH043.N  13507.SH043.T  \n",
              "0                   0              0              0              0  \n",
              "1                   0              0              0              0  \n",
              "2                   0              0              0              0  \n",
              "3                   0              0              0              0  \n",
              "4                   0              0              0              0  \n",
              "...               ...            ...            ...            ...  \n",
              "276863              0              0              0              2  \n",
              "276864              0              0              0              1  \n",
              "276865              0              0              0              1  \n",
              "276866              0              0              0              1  \n",
              "276867              0              0              0              1  \n",
              "\n",
              "[276868 rows x 53 columns]"
            ],
            "text/html": [
              "\n",
              "  <div id=\"df-143061df-cbd6-450d-8d26-ae0c9641f2ac\">\n",
              "    <div class=\"colab-df-container\">\n",
              "      <div>\n",
              "<style scoped>\n",
              "    .dataframe tbody tr th:only-of-type {\n",
              "        vertical-align: middle;\n",
              "    }\n",
              "\n",
              "    .dataframe tbody tr th {\n",
              "        vertical-align: top;\n",
              "    }\n",
              "\n",
              "    .dataframe thead th {\n",
              "        text-align: right;\n",
              "    }\n",
              "</style>\n",
              "<table border=\"1\" class=\"dataframe\">\n",
              "  <thead>\n",
              "    <tr style=\"text-align: right;\">\n",
              "      <th></th>\n",
              "      <th>Representative_Sequence</th>\n",
              "      <th>total</th>\n",
              "      <th>13507.RTSF.NTC1</th>\n",
              "      <th>13507.RTSF.NTC2</th>\n",
              "      <th>13507.RTSF.NTC3</th>\n",
              "      <th>13507.SD200.N</th>\n",
              "      <th>13507.SD200.T</th>\n",
              "      <th>13507.SD231.N</th>\n",
              "      <th>13507.SD231.T</th>\n",
              "      <th>13507.SD239.N</th>\n",
              "      <th>...</th>\n",
              "      <th>13507.SH036.N</th>\n",
              "      <th>13507.SH036.T</th>\n",
              "      <th>13507.SH037.N</th>\n",
              "      <th>13507.SH037.T</th>\n",
              "      <th>13507.SH038.N</th>\n",
              "      <th>13507.SH038.T</th>\n",
              "      <th>13507.SH039.N</th>\n",
              "      <th>13507.SH039.T</th>\n",
              "      <th>13507.SH043.N</th>\n",
              "      <th>13507.SH043.T</th>\n",
              "    </tr>\n",
              "  </thead>\n",
              "  <tbody>\n",
              "    <tr>\n",
              "      <th>0</th>\n",
              "      <td>13507.RTSF.NTC1_0</td>\n",
              "      <td>1</td>\n",
              "      <td>1</td>\n",
              "      <td>0</td>\n",
              "      <td>0</td>\n",
              "      <td>0</td>\n",
              "      <td>0</td>\n",
              "      <td>0</td>\n",
              "      <td>0</td>\n",
              "      <td>0</td>\n",
              "      <td>...</td>\n",
              "      <td>0</td>\n",
              "      <td>0</td>\n",
              "      <td>0</td>\n",
              "      <td>0</td>\n",
              "      <td>0</td>\n",
              "      <td>0</td>\n",
              "      <td>0</td>\n",
              "      <td>0</td>\n",
              "      <td>0</td>\n",
              "      <td>0</td>\n",
              "    </tr>\n",
              "    <tr>\n",
              "      <th>1</th>\n",
              "      <td>13507.RTSF.NTC1_1</td>\n",
              "      <td>15</td>\n",
              "      <td>15</td>\n",
              "      <td>0</td>\n",
              "      <td>0</td>\n",
              "      <td>0</td>\n",
              "      <td>0</td>\n",
              "      <td>0</td>\n",
              "      <td>0</td>\n",
              "      <td>0</td>\n",
              "      <td>...</td>\n",
              "      <td>0</td>\n",
              "      <td>0</td>\n",
              "      <td>0</td>\n",
              "      <td>0</td>\n",
              "      <td>0</td>\n",
              "      <td>0</td>\n",
              "      <td>0</td>\n",
              "      <td>0</td>\n",
              "      <td>0</td>\n",
              "      <td>0</td>\n",
              "    </tr>\n",
              "    <tr>\n",
              "      <th>2</th>\n",
              "      <td>13507.RTSF.NTC1_2</td>\n",
              "      <td>1</td>\n",
              "      <td>1</td>\n",
              "      <td>0</td>\n",
              "      <td>0</td>\n",
              "      <td>0</td>\n",
              "      <td>0</td>\n",
              "      <td>0</td>\n",
              "      <td>0</td>\n",
              "      <td>0</td>\n",
              "      <td>...</td>\n",
              "      <td>0</td>\n",
              "      <td>0</td>\n",
              "      <td>0</td>\n",
              "      <td>0</td>\n",
              "      <td>0</td>\n",
              "      <td>0</td>\n",
              "      <td>0</td>\n",
              "      <td>0</td>\n",
              "      <td>0</td>\n",
              "      <td>0</td>\n",
              "    </tr>\n",
              "    <tr>\n",
              "      <th>3</th>\n",
              "      <td>13507.RTSF.NTC1_3</td>\n",
              "      <td>7</td>\n",
              "      <td>7</td>\n",
              "      <td>0</td>\n",
              "      <td>0</td>\n",
              "      <td>0</td>\n",
              "      <td>0</td>\n",
              "      <td>0</td>\n",
              "      <td>0</td>\n",
              "      <td>0</td>\n",
              "      <td>...</td>\n",
              "      <td>0</td>\n",
              "      <td>0</td>\n",
              "      <td>0</td>\n",
              "      <td>0</td>\n",
              "      <td>0</td>\n",
              "      <td>0</td>\n",
              "      <td>0</td>\n",
              "      <td>0</td>\n",
              "      <td>0</td>\n",
              "      <td>0</td>\n",
              "    </tr>\n",
              "    <tr>\n",
              "      <th>4</th>\n",
              "      <td>13507.RTSF.NTC1_4</td>\n",
              "      <td>1</td>\n",
              "      <td>1</td>\n",
              "      <td>0</td>\n",
              "      <td>0</td>\n",
              "      <td>0</td>\n",
              "      <td>0</td>\n",
              "      <td>0</td>\n",
              "      <td>0</td>\n",
              "      <td>0</td>\n",
              "      <td>...</td>\n",
              "      <td>0</td>\n",
              "      <td>0</td>\n",
              "      <td>0</td>\n",
              "      <td>0</td>\n",
              "      <td>0</td>\n",
              "      <td>0</td>\n",
              "      <td>0</td>\n",
              "      <td>0</td>\n",
              "      <td>0</td>\n",
              "      <td>0</td>\n",
              "    </tr>\n",
              "    <tr>\n",
              "      <th>...</th>\n",
              "      <td>...</td>\n",
              "      <td>...</td>\n",
              "      <td>...</td>\n",
              "      <td>...</td>\n",
              "      <td>...</td>\n",
              "      <td>...</td>\n",
              "      <td>...</td>\n",
              "      <td>...</td>\n",
              "      <td>...</td>\n",
              "      <td>...</td>\n",
              "      <td>...</td>\n",
              "      <td>...</td>\n",
              "      <td>...</td>\n",
              "      <td>...</td>\n",
              "      <td>...</td>\n",
              "      <td>...</td>\n",
              "      <td>...</td>\n",
              "      <td>...</td>\n",
              "      <td>...</td>\n",
              "      <td>...</td>\n",
              "      <td>...</td>\n",
              "    </tr>\n",
              "    <tr>\n",
              "      <th>276863</th>\n",
              "      <td>13507.SH043.T_18243</td>\n",
              "      <td>2</td>\n",
              "      <td>0</td>\n",
              "      <td>0</td>\n",
              "      <td>0</td>\n",
              "      <td>0</td>\n",
              "      <td>0</td>\n",
              "      <td>0</td>\n",
              "      <td>0</td>\n",
              "      <td>0</td>\n",
              "      <td>...</td>\n",
              "      <td>0</td>\n",
              "      <td>0</td>\n",
              "      <td>0</td>\n",
              "      <td>0</td>\n",
              "      <td>0</td>\n",
              "      <td>0</td>\n",
              "      <td>0</td>\n",
              "      <td>0</td>\n",
              "      <td>0</td>\n",
              "      <td>2</td>\n",
              "    </tr>\n",
              "    <tr>\n",
              "      <th>276864</th>\n",
              "      <td>13507.SH043.T_18245</td>\n",
              "      <td>1</td>\n",
              "      <td>0</td>\n",
              "      <td>0</td>\n",
              "      <td>0</td>\n",
              "      <td>0</td>\n",
              "      <td>0</td>\n",
              "      <td>0</td>\n",
              "      <td>0</td>\n",
              "      <td>0</td>\n",
              "      <td>...</td>\n",
              "      <td>0</td>\n",
              "      <td>0</td>\n",
              "      <td>0</td>\n",
              "      <td>0</td>\n",
              "      <td>0</td>\n",
              "      <td>0</td>\n",
              "      <td>0</td>\n",
              "      <td>0</td>\n",
              "      <td>0</td>\n",
              "      <td>1</td>\n",
              "    </tr>\n",
              "    <tr>\n",
              "      <th>276865</th>\n",
              "      <td>13507.SH043.T_18247</td>\n",
              "      <td>1</td>\n",
              "      <td>0</td>\n",
              "      <td>0</td>\n",
              "      <td>0</td>\n",
              "      <td>0</td>\n",
              "      <td>0</td>\n",
              "      <td>0</td>\n",
              "      <td>0</td>\n",
              "      <td>0</td>\n",
              "      <td>...</td>\n",
              "      <td>0</td>\n",
              "      <td>0</td>\n",
              "      <td>0</td>\n",
              "      <td>0</td>\n",
              "      <td>0</td>\n",
              "      <td>0</td>\n",
              "      <td>0</td>\n",
              "      <td>0</td>\n",
              "      <td>0</td>\n",
              "      <td>1</td>\n",
              "    </tr>\n",
              "    <tr>\n",
              "      <th>276866</th>\n",
              "      <td>13507.SH043.T_18248</td>\n",
              "      <td>1</td>\n",
              "      <td>0</td>\n",
              "      <td>0</td>\n",
              "      <td>0</td>\n",
              "      <td>0</td>\n",
              "      <td>0</td>\n",
              "      <td>0</td>\n",
              "      <td>0</td>\n",
              "      <td>0</td>\n",
              "      <td>...</td>\n",
              "      <td>0</td>\n",
              "      <td>0</td>\n",
              "      <td>0</td>\n",
              "      <td>0</td>\n",
              "      <td>0</td>\n",
              "      <td>0</td>\n",
              "      <td>0</td>\n",
              "      <td>0</td>\n",
              "      <td>0</td>\n",
              "      <td>1</td>\n",
              "    </tr>\n",
              "    <tr>\n",
              "      <th>276867</th>\n",
              "      <td>13507.SH043.T_18249</td>\n",
              "      <td>1</td>\n",
              "      <td>0</td>\n",
              "      <td>0</td>\n",
              "      <td>0</td>\n",
              "      <td>0</td>\n",
              "      <td>0</td>\n",
              "      <td>0</td>\n",
              "      <td>0</td>\n",
              "      <td>0</td>\n",
              "      <td>...</td>\n",
              "      <td>0</td>\n",
              "      <td>0</td>\n",
              "      <td>0</td>\n",
              "      <td>0</td>\n",
              "      <td>0</td>\n",
              "      <td>0</td>\n",
              "      <td>0</td>\n",
              "      <td>0</td>\n",
              "      <td>0</td>\n",
              "      <td>1</td>\n",
              "    </tr>\n",
              "  </tbody>\n",
              "</table>\n",
              "<p>276868 rows × 53 columns</p>\n",
              "</div>\n",
              "      <button class=\"colab-df-convert\" onclick=\"convertToInteractive('df-143061df-cbd6-450d-8d26-ae0c9641f2ac')\"\n",
              "              title=\"Convert this dataframe to an interactive table.\"\n",
              "              style=\"display:none;\">\n",
              "        \n",
              "  <svg xmlns=\"http://www.w3.org/2000/svg\" height=\"24px\"viewBox=\"0 0 24 24\"\n",
              "       width=\"24px\">\n",
              "    <path d=\"M0 0h24v24H0V0z\" fill=\"none\"/>\n",
              "    <path d=\"M18.56 5.44l.94 2.06.94-2.06 2.06-.94-2.06-.94-.94-2.06-.94 2.06-2.06.94zm-11 1L8.5 8.5l.94-2.06 2.06-.94-2.06-.94L8.5 2.5l-.94 2.06-2.06.94zm10 10l.94 2.06.94-2.06 2.06-.94-2.06-.94-.94-2.06-.94 2.06-2.06.94z\"/><path d=\"M17.41 7.96l-1.37-1.37c-.4-.4-.92-.59-1.43-.59-.52 0-1.04.2-1.43.59L10.3 9.45l-7.72 7.72c-.78.78-.78 2.05 0 2.83L4 21.41c.39.39.9.59 1.41.59.51 0 1.02-.2 1.41-.59l7.78-7.78 2.81-2.81c.8-.78.8-2.07 0-2.86zM5.41 20L4 18.59l7.72-7.72 1.47 1.35L5.41 20z\"/>\n",
              "  </svg>\n",
              "      </button>\n",
              "      \n",
              "  <style>\n",
              "    .colab-df-container {\n",
              "      display:flex;\n",
              "      flex-wrap:wrap;\n",
              "      gap: 12px;\n",
              "    }\n",
              "\n",
              "    .colab-df-convert {\n",
              "      background-color: #E8F0FE;\n",
              "      border: none;\n",
              "      border-radius: 50%;\n",
              "      cursor: pointer;\n",
              "      display: none;\n",
              "      fill: #1967D2;\n",
              "      height: 32px;\n",
              "      padding: 0 0 0 0;\n",
              "      width: 32px;\n",
              "    }\n",
              "\n",
              "    .colab-df-convert:hover {\n",
              "      background-color: #E2EBFA;\n",
              "      box-shadow: 0px 1px 2px rgba(60, 64, 67, 0.3), 0px 1px 3px 1px rgba(60, 64, 67, 0.15);\n",
              "      fill: #174EA6;\n",
              "    }\n",
              "\n",
              "    [theme=dark] .colab-df-convert {\n",
              "      background-color: #3B4455;\n",
              "      fill: #D2E3FC;\n",
              "    }\n",
              "\n",
              "    [theme=dark] .colab-df-convert:hover {\n",
              "      background-color: #434B5C;\n",
              "      box-shadow: 0px 1px 3px 1px rgba(0, 0, 0, 0.15);\n",
              "      filter: drop-shadow(0px 1px 2px rgba(0, 0, 0, 0.3));\n",
              "      fill: #FFFFFF;\n",
              "    }\n",
              "  </style>\n",
              "\n",
              "      <script>\n",
              "        const buttonEl =\n",
              "          document.querySelector('#df-143061df-cbd6-450d-8d26-ae0c9641f2ac button.colab-df-convert');\n",
              "        buttonEl.style.display =\n",
              "          google.colab.kernel.accessAllowed ? 'block' : 'none';\n",
              "\n",
              "        async function convertToInteractive(key) {\n",
              "          const element = document.querySelector('#df-143061df-cbd6-450d-8d26-ae0c9641f2ac');\n",
              "          const dataTable =\n",
              "            await google.colab.kernel.invokeFunction('convertToInteractive',\n",
              "                                                     [key], {});\n",
              "          if (!dataTable) return;\n",
              "\n",
              "          const docLinkHtml = 'Like what you see? Visit the ' +\n",
              "            '<a target=\"_blank\" href=https://colab.research.google.com/notebooks/data_table.ipynb>data table notebook</a>'\n",
              "            + ' to learn more about interactive tables.';\n",
              "          element.innerHTML = '';\n",
              "          dataTable['output_type'] = 'display_data';\n",
              "          await google.colab.output.renderOutput(dataTable, element);\n",
              "          const docLink = document.createElement('div');\n",
              "          docLink.innerHTML = docLinkHtml;\n",
              "          element.appendChild(docLink);\n",
              "        }\n",
              "      </script>\n",
              "    </div>\n",
              "  </div>\n",
              "  "
            ]
          },
          "metadata": {},
          "execution_count": 4
        }
      ]
    },
    {
      "cell_type": "markdown",
      "source": [
        "Cleaning Up Taxonomic Data"
      ],
      "metadata": {
        "id": "RwqKFgtzUqNC"
      }
    },
    {
      "cell_type": "code",
      "source": [
        "taxonomic_data[1][0]"
      ],
      "metadata": {
        "colab": {
          "base_uri": "https://localhost:8080/",
          "height": 35
        },
        "id": "jJeVNmtybmCq",
        "outputId": "81dd972b-db81-48cb-f9e0-881212c5289d"
      },
      "execution_count": null,
      "outputs": [
        {
          "output_type": "execute_result",
          "data": {
            "text/plain": [
              "'Bacteria(98);Bacteria_unclassified(98);Bacteria_unclassified(98);Bacteria_unclassified(98);Bacteria_unclassified(98);Bacteria_unclassified(98);'"
            ],
            "application/vnd.google.colaboratory.intrinsic+json": {
              "type": "string"
            }
          },
          "metadata": {},
          "execution_count": 5
        }
      ]
    },
    {
      "cell_type": "code",
      "source": [
        "def remove_bacteria(taxonomy_str):\n",
        "  new_tax = taxonomy_str.split(\";\")\n",
        "  new_tax = new_tax[1:]\n",
        "  return new_tax\n",
        "\n",
        "taxonomic_data.columns = [\"rep_seq\", \"bact_comp\"] #columns were previously named [0,1] for whatever reason\n",
        "\n",
        "taxonomic_data[\"new_bact_comp\"] = taxonomic_data[\"bact_comp\"].apply(remove_bacteria) #We can apply function to bact_comp column, create new col which drops first string..? Who cares\n",
        "print(taxonomic_data)\n",
        "#It looks like the column \"new_bact_comp\" gets used throughout the notebook to add new columns to taxonomic_data"
      ],
      "metadata": {
        "id": "8U-9-M3cU5MF",
        "colab": {
          "base_uri": "https://localhost:8080/"
        },
        "outputId": "3bef26e7-ee1e-47f5-8f4e-dc7184693f40"
      },
      "execution_count": null,
      "outputs": [
        {
          "output_type": "stream",
          "name": "stdout",
          "text": [
            "                   rep_seq                                          bact_comp  \\\n",
            "0       13507.RTSF.NTC1_35  Bacteria(98);Bacteria_unclassified(98);Bacteri...   \n",
            "1       13507.RTSF.NTC1_16  Bacteria(100);\"Proteobacteria\"(93);Deltaproteo...   \n",
            "2      13507.RTSF.NTC1_301  Bacteria(100);\"Verrucomicrobia\"(100);Spartobac...   \n",
            "3       13507.RTSF.NTC1_82  Bacteria(100);\"Bacteroidetes\"(100);\"Sphingobac...   \n",
            "4      13507.RTSF.NTC1_312  Bacteria(100);\"Bacteroidetes\"(100);\"Sphingobac...   \n",
            "...                    ...                                                ...   \n",
            "45944  13507.SH043.T_15365  Bacteria(97);Firmicutes(90);Clostridia(86);Clo...   \n",
            "45945  13507.SH043.T_15355  Bacteria(99);\"Bacteroidetes\"(99);\"Bacteroidia\"...   \n",
            "45946  13507.SH043.T_15334  Bacteria(100);\"Bacteroidetes\"(99);\"Bacteroidia...   \n",
            "45947  13507.SH043.T_17263  Bacteria(100);\"Bacteroidetes\"(99);\"Bacteroidia...   \n",
            "45948  13507.SH043.T_17210  Bacteria(100);\"Proteobacteria\"(100);Gammaprote...   \n",
            "\n",
            "                                           new_bact_comp  \n",
            "0      [Bacteria_unclassified(98), Bacteria_unclassif...  \n",
            "1      [\"Proteobacteria\"(93), Deltaproteobacteria(91)...  \n",
            "2      [\"Verrucomicrobia\"(100), Spartobacteria(100), ...  \n",
            "3      [\"Bacteroidetes\"(100), \"Sphingobacteria\"(100),...  \n",
            "4      [\"Bacteroidetes\"(100), \"Sphingobacteria\"(100),...  \n",
            "...                                                  ...  \n",
            "45944  [Firmicutes(90), Clostridia(86), Clostridiales...  \n",
            "45945  [\"Bacteroidetes\"(99), \"Bacteroidia\"(90), \"Bact...  \n",
            "45946  [\"Bacteroidetes\"(99), \"Bacteroidia\"(81), \"Bact...  \n",
            "45947  [\"Bacteroidetes\"(99), \"Bacteroidia\"(99), \"Bact...  \n",
            "45948  [\"Proteobacteria\"(100), Gammaproteobacteria(97...  \n",
            "\n",
            "[45949 rows x 3 columns]\n"
          ]
        }
      ]
    },
    {
      "cell_type": "markdown",
      "source": [
        "Below, we further break down the info in \"new_bact_comp\" column to identify genus, family, and other info for each sample!"
      ],
      "metadata": {
        "id": "xmTTzFyReuwB"
      }
    },
    {
      "cell_type": "code",
      "source": [
        "def extract_genus(tax_list):\n",
        "  genus = tax_list[-2].split(\"(\")[0]\n",
        "  return genus\n",
        "\n",
        "taxonomic_data[\"genus\"] = taxonomic_data[\"new_bact_comp\"].apply(extract_genus)"
      ],
      "metadata": {
        "id": "36K5O8u6VImp"
      },
      "execution_count": null,
      "outputs": []
    },
    {
      "cell_type": "code",
      "source": [
        "def extract_family(tax_list):\n",
        "  family = tax_list[-3].split(\"(\")[0]\n",
        "  return family\n",
        "\n",
        "taxonomic_data[\"family\"] = taxonomic_data[\"new_bact_comp\"].apply(extract_family)"
      ],
      "metadata": {
        "id": "bRxAnP7BVxsR"
      },
      "execution_count": null,
      "outputs": []
    },
    {
      "cell_type": "code",
      "source": [
        "def extract_order(tax_list):\n",
        "  order = tax_list[-4].split(\"(\")[0]\n",
        "  return order\n",
        "\n",
        "taxonomic_data[\"order\"] = taxonomic_data[\"new_bact_comp\"].apply(extract_order)"
      ],
      "metadata": {
        "id": "ubm-rPLzVzxU"
      },
      "execution_count": null,
      "outputs": []
    },
    {
      "cell_type": "code",
      "source": [
        "def extract_class(tax_list):\n",
        "  cl = tax_list[-5].split(\"(\")[0]\n",
        "  return cl\n",
        "\n",
        "taxonomic_data[\"clas\"] = taxonomic_data[\"new_bact_comp\"].apply(extract_class)"
      ],
      "metadata": {
        "id": "piWDD34OV1Rc"
      },
      "execution_count": null,
      "outputs": []
    },
    {
      "cell_type": "code",
      "source": [
        "def extract_phylum(tax_list):\n",
        "  phylum = tax_list[-6].split(\"(\")[0]\n",
        "  return phylum\n",
        "\n",
        "taxonomic_data[\"phylum\"] = taxonomic_data[\"new_bact_comp\"].apply(extract_phylum)"
      ],
      "metadata": {
        "id": "XkonLZ_hV2rS"
      },
      "execution_count": null,
      "outputs": []
    },
    {
      "cell_type": "code",
      "source": [
        "def extract_patient_id(tax_list):\n",
        "  patient_id = tax_list.split(\"_\")[0]\n",
        "  return patient_id\n",
        "\n",
        "taxonomic_data[\"patient_id\"] = taxonomic_data[\"rep_seq\"].apply(extract_patient_id)\n",
        "first_column = taxonomic_data.pop(\"patient_id\")\n",
        "taxonomic_data.insert(0,\"patient_id\",first_column)"
      ],
      "metadata": {
        "id": "MH-RzSDSV4Vw"
      },
      "execution_count": null,
      "outputs": []
    },
    {
      "cell_type": "markdown",
      "source": [
        "What is about to happen with count_matrix here?"
      ],
      "metadata": {
        "id": "UeqxXhyRe8Br"
      }
    },
    {
      "cell_type": "code",
      "source": [
        "#count_matrix.Representative_Sequence"
      ],
      "metadata": {
        "id": "CbCLuamMfnbx"
      },
      "execution_count": null,
      "outputs": []
    },
    {
      "cell_type": "code",
      "source": [
        "#count_matrix.sort_values(\"total\").head(5)"
      ],
      "metadata": {
        "id": "nNzC_GbagIEZ"
      },
      "execution_count": null,
      "outputs": []
    },
    {
      "cell_type": "code",
      "source": [
        "count_matrix.sort_values(\"total\").tail(5) #Sort ascending \"total counts\", show last 5 (top 5 most counts!)\n",
        "count_matrix.index=count_matrix.Representative_Sequence #Instead of having numeric row index, use representative sequence instead\n",
        "count_matrix.drop([\"Representative_Sequence\", \"total\"], inplace=True, axis=1) #Next, drop the rep_sequence column and total count column"
      ],
      "metadata": {
        "id": "s6Wla8mZ4b-P"
      },
      "execution_count": null,
      "outputs": []
    },
    {
      "cell_type": "code",
      "source": [
        "count_matrix.tail()"
      ],
      "metadata": {
        "colab": {
          "base_uri": "https://localhost:8080/",
          "height": 331
        },
        "id": "8jweHDVDyi1L",
        "outputId": "7cd623eb-513d-4cc6-c6d1-139604b91562"
      },
      "execution_count": null,
      "outputs": [
        {
          "output_type": "execute_result",
          "data": {
            "text/plain": [
              "                         13507.RTSF.NTC1  13507.RTSF.NTC2  13507.RTSF.NTC3  \\\n",
              "Representative_Sequence                                                      \n",
              "13507.SH043.T_18243                    0                0                0   \n",
              "13507.SH043.T_18245                    0                0                0   \n",
              "13507.SH043.T_18247                    0                0                0   \n",
              "13507.SH043.T_18248                    0                0                0   \n",
              "13507.SH043.T_18249                    0                0                0   \n",
              "\n",
              "                         13507.SD200.N  13507.SD200.T  13507.SD231.N  \\\n",
              "Representative_Sequence                                                \n",
              "13507.SH043.T_18243                  0              0              0   \n",
              "13507.SH043.T_18245                  0              0              0   \n",
              "13507.SH043.T_18247                  0              0              0   \n",
              "13507.SH043.T_18248                  0              0              0   \n",
              "13507.SH043.T_18249                  0              0              0   \n",
              "\n",
              "                         13507.SD231.T  13507.SD239.N  13507.SD239.T  \\\n",
              "Representative_Sequence                                                \n",
              "13507.SH043.T_18243                  0              0              0   \n",
              "13507.SH043.T_18245                  0              0              0   \n",
              "13507.SH043.T_18247                  0              0              0   \n",
              "13507.SH043.T_18248                  0              0              0   \n",
              "13507.SH043.T_18249                  0              0              0   \n",
              "\n",
              "                         13507.SD262.N  ...  13507.SH036.N  13507.SH036.T  \\\n",
              "Representative_Sequence                 ...                                 \n",
              "13507.SH043.T_18243                  0  ...              0              0   \n",
              "13507.SH043.T_18245                  0  ...              0              0   \n",
              "13507.SH043.T_18247                  0  ...              0              0   \n",
              "13507.SH043.T_18248                  0  ...              0              0   \n",
              "13507.SH043.T_18249                  0  ...              0              0   \n",
              "\n",
              "                         13507.SH037.N  13507.SH037.T  13507.SH038.N  \\\n",
              "Representative_Sequence                                                \n",
              "13507.SH043.T_18243                  0              0              0   \n",
              "13507.SH043.T_18245                  0              0              0   \n",
              "13507.SH043.T_18247                  0              0              0   \n",
              "13507.SH043.T_18248                  0              0              0   \n",
              "13507.SH043.T_18249                  0              0              0   \n",
              "\n",
              "                         13507.SH038.T  13507.SH039.N  13507.SH039.T  \\\n",
              "Representative_Sequence                                                \n",
              "13507.SH043.T_18243                  0              0              0   \n",
              "13507.SH043.T_18245                  0              0              0   \n",
              "13507.SH043.T_18247                  0              0              0   \n",
              "13507.SH043.T_18248                  0              0              0   \n",
              "13507.SH043.T_18249                  0              0              0   \n",
              "\n",
              "                         13507.SH043.N  13507.SH043.T  \n",
              "Representative_Sequence                                \n",
              "13507.SH043.T_18243                  0              2  \n",
              "13507.SH043.T_18245                  0              1  \n",
              "13507.SH043.T_18247                  0              1  \n",
              "13507.SH043.T_18248                  0              1  \n",
              "13507.SH043.T_18249                  0              1  \n",
              "\n",
              "[5 rows x 51 columns]"
            ],
            "text/html": [
              "\n",
              "  <div id=\"df-0f400183-0b82-49f0-804c-0b6026aeeffa\">\n",
              "    <div class=\"colab-df-container\">\n",
              "      <div>\n",
              "<style scoped>\n",
              "    .dataframe tbody tr th:only-of-type {\n",
              "        vertical-align: middle;\n",
              "    }\n",
              "\n",
              "    .dataframe tbody tr th {\n",
              "        vertical-align: top;\n",
              "    }\n",
              "\n",
              "    .dataframe thead th {\n",
              "        text-align: right;\n",
              "    }\n",
              "</style>\n",
              "<table border=\"1\" class=\"dataframe\">\n",
              "  <thead>\n",
              "    <tr style=\"text-align: right;\">\n",
              "      <th></th>\n",
              "      <th>13507.RTSF.NTC1</th>\n",
              "      <th>13507.RTSF.NTC2</th>\n",
              "      <th>13507.RTSF.NTC3</th>\n",
              "      <th>13507.SD200.N</th>\n",
              "      <th>13507.SD200.T</th>\n",
              "      <th>13507.SD231.N</th>\n",
              "      <th>13507.SD231.T</th>\n",
              "      <th>13507.SD239.N</th>\n",
              "      <th>13507.SD239.T</th>\n",
              "      <th>13507.SD262.N</th>\n",
              "      <th>...</th>\n",
              "      <th>13507.SH036.N</th>\n",
              "      <th>13507.SH036.T</th>\n",
              "      <th>13507.SH037.N</th>\n",
              "      <th>13507.SH037.T</th>\n",
              "      <th>13507.SH038.N</th>\n",
              "      <th>13507.SH038.T</th>\n",
              "      <th>13507.SH039.N</th>\n",
              "      <th>13507.SH039.T</th>\n",
              "      <th>13507.SH043.N</th>\n",
              "      <th>13507.SH043.T</th>\n",
              "    </tr>\n",
              "    <tr>\n",
              "      <th>Representative_Sequence</th>\n",
              "      <th></th>\n",
              "      <th></th>\n",
              "      <th></th>\n",
              "      <th></th>\n",
              "      <th></th>\n",
              "      <th></th>\n",
              "      <th></th>\n",
              "      <th></th>\n",
              "      <th></th>\n",
              "      <th></th>\n",
              "      <th></th>\n",
              "      <th></th>\n",
              "      <th></th>\n",
              "      <th></th>\n",
              "      <th></th>\n",
              "      <th></th>\n",
              "      <th></th>\n",
              "      <th></th>\n",
              "      <th></th>\n",
              "      <th></th>\n",
              "      <th></th>\n",
              "    </tr>\n",
              "  </thead>\n",
              "  <tbody>\n",
              "    <tr>\n",
              "      <th>13507.SH043.T_18243</th>\n",
              "      <td>0</td>\n",
              "      <td>0</td>\n",
              "      <td>0</td>\n",
              "      <td>0</td>\n",
              "      <td>0</td>\n",
              "      <td>0</td>\n",
              "      <td>0</td>\n",
              "      <td>0</td>\n",
              "      <td>0</td>\n",
              "      <td>0</td>\n",
              "      <td>...</td>\n",
              "      <td>0</td>\n",
              "      <td>0</td>\n",
              "      <td>0</td>\n",
              "      <td>0</td>\n",
              "      <td>0</td>\n",
              "      <td>0</td>\n",
              "      <td>0</td>\n",
              "      <td>0</td>\n",
              "      <td>0</td>\n",
              "      <td>2</td>\n",
              "    </tr>\n",
              "    <tr>\n",
              "      <th>13507.SH043.T_18245</th>\n",
              "      <td>0</td>\n",
              "      <td>0</td>\n",
              "      <td>0</td>\n",
              "      <td>0</td>\n",
              "      <td>0</td>\n",
              "      <td>0</td>\n",
              "      <td>0</td>\n",
              "      <td>0</td>\n",
              "      <td>0</td>\n",
              "      <td>0</td>\n",
              "      <td>...</td>\n",
              "      <td>0</td>\n",
              "      <td>0</td>\n",
              "      <td>0</td>\n",
              "      <td>0</td>\n",
              "      <td>0</td>\n",
              "      <td>0</td>\n",
              "      <td>0</td>\n",
              "      <td>0</td>\n",
              "      <td>0</td>\n",
              "      <td>1</td>\n",
              "    </tr>\n",
              "    <tr>\n",
              "      <th>13507.SH043.T_18247</th>\n",
              "      <td>0</td>\n",
              "      <td>0</td>\n",
              "      <td>0</td>\n",
              "      <td>0</td>\n",
              "      <td>0</td>\n",
              "      <td>0</td>\n",
              "      <td>0</td>\n",
              "      <td>0</td>\n",
              "      <td>0</td>\n",
              "      <td>0</td>\n",
              "      <td>...</td>\n",
              "      <td>0</td>\n",
              "      <td>0</td>\n",
              "      <td>0</td>\n",
              "      <td>0</td>\n",
              "      <td>0</td>\n",
              "      <td>0</td>\n",
              "      <td>0</td>\n",
              "      <td>0</td>\n",
              "      <td>0</td>\n",
              "      <td>1</td>\n",
              "    </tr>\n",
              "    <tr>\n",
              "      <th>13507.SH043.T_18248</th>\n",
              "      <td>0</td>\n",
              "      <td>0</td>\n",
              "      <td>0</td>\n",
              "      <td>0</td>\n",
              "      <td>0</td>\n",
              "      <td>0</td>\n",
              "      <td>0</td>\n",
              "      <td>0</td>\n",
              "      <td>0</td>\n",
              "      <td>0</td>\n",
              "      <td>...</td>\n",
              "      <td>0</td>\n",
              "      <td>0</td>\n",
              "      <td>0</td>\n",
              "      <td>0</td>\n",
              "      <td>0</td>\n",
              "      <td>0</td>\n",
              "      <td>0</td>\n",
              "      <td>0</td>\n",
              "      <td>0</td>\n",
              "      <td>1</td>\n",
              "    </tr>\n",
              "    <tr>\n",
              "      <th>13507.SH043.T_18249</th>\n",
              "      <td>0</td>\n",
              "      <td>0</td>\n",
              "      <td>0</td>\n",
              "      <td>0</td>\n",
              "      <td>0</td>\n",
              "      <td>0</td>\n",
              "      <td>0</td>\n",
              "      <td>0</td>\n",
              "      <td>0</td>\n",
              "      <td>0</td>\n",
              "      <td>...</td>\n",
              "      <td>0</td>\n",
              "      <td>0</td>\n",
              "      <td>0</td>\n",
              "      <td>0</td>\n",
              "      <td>0</td>\n",
              "      <td>0</td>\n",
              "      <td>0</td>\n",
              "      <td>0</td>\n",
              "      <td>0</td>\n",
              "      <td>1</td>\n",
              "    </tr>\n",
              "  </tbody>\n",
              "</table>\n",
              "<p>5 rows × 51 columns</p>\n",
              "</div>\n",
              "      <button class=\"colab-df-convert\" onclick=\"convertToInteractive('df-0f400183-0b82-49f0-804c-0b6026aeeffa')\"\n",
              "              title=\"Convert this dataframe to an interactive table.\"\n",
              "              style=\"display:none;\">\n",
              "        \n",
              "  <svg xmlns=\"http://www.w3.org/2000/svg\" height=\"24px\"viewBox=\"0 0 24 24\"\n",
              "       width=\"24px\">\n",
              "    <path d=\"M0 0h24v24H0V0z\" fill=\"none\"/>\n",
              "    <path d=\"M18.56 5.44l.94 2.06.94-2.06 2.06-.94-2.06-.94-.94-2.06-.94 2.06-2.06.94zm-11 1L8.5 8.5l.94-2.06 2.06-.94-2.06-.94L8.5 2.5l-.94 2.06-2.06.94zm10 10l.94 2.06.94-2.06 2.06-.94-2.06-.94-.94-2.06-.94 2.06-2.06.94z\"/><path d=\"M17.41 7.96l-1.37-1.37c-.4-.4-.92-.59-1.43-.59-.52 0-1.04.2-1.43.59L10.3 9.45l-7.72 7.72c-.78.78-.78 2.05 0 2.83L4 21.41c.39.39.9.59 1.41.59.51 0 1.02-.2 1.41-.59l7.78-7.78 2.81-2.81c.8-.78.8-2.07 0-2.86zM5.41 20L4 18.59l7.72-7.72 1.47 1.35L5.41 20z\"/>\n",
              "  </svg>\n",
              "      </button>\n",
              "      \n",
              "  <style>\n",
              "    .colab-df-container {\n",
              "      display:flex;\n",
              "      flex-wrap:wrap;\n",
              "      gap: 12px;\n",
              "    }\n",
              "\n",
              "    .colab-df-convert {\n",
              "      background-color: #E8F0FE;\n",
              "      border: none;\n",
              "      border-radius: 50%;\n",
              "      cursor: pointer;\n",
              "      display: none;\n",
              "      fill: #1967D2;\n",
              "      height: 32px;\n",
              "      padding: 0 0 0 0;\n",
              "      width: 32px;\n",
              "    }\n",
              "\n",
              "    .colab-df-convert:hover {\n",
              "      background-color: #E2EBFA;\n",
              "      box-shadow: 0px 1px 2px rgba(60, 64, 67, 0.3), 0px 1px 3px 1px rgba(60, 64, 67, 0.15);\n",
              "      fill: #174EA6;\n",
              "    }\n",
              "\n",
              "    [theme=dark] .colab-df-convert {\n",
              "      background-color: #3B4455;\n",
              "      fill: #D2E3FC;\n",
              "    }\n",
              "\n",
              "    [theme=dark] .colab-df-convert:hover {\n",
              "      background-color: #434B5C;\n",
              "      box-shadow: 0px 1px 3px 1px rgba(0, 0, 0, 0.15);\n",
              "      filter: drop-shadow(0px 1px 2px rgba(0, 0, 0, 0.3));\n",
              "      fill: #FFFFFF;\n",
              "    }\n",
              "  </style>\n",
              "\n",
              "      <script>\n",
              "        const buttonEl =\n",
              "          document.querySelector('#df-0f400183-0b82-49f0-804c-0b6026aeeffa button.colab-df-convert');\n",
              "        buttonEl.style.display =\n",
              "          google.colab.kernel.accessAllowed ? 'block' : 'none';\n",
              "\n",
              "        async function convertToInteractive(key) {\n",
              "          const element = document.querySelector('#df-0f400183-0b82-49f0-804c-0b6026aeeffa');\n",
              "          const dataTable =\n",
              "            await google.colab.kernel.invokeFunction('convertToInteractive',\n",
              "                                                     [key], {});\n",
              "          if (!dataTable) return;\n",
              "\n",
              "          const docLinkHtml = 'Like what you see? Visit the ' +\n",
              "            '<a target=\"_blank\" href=https://colab.research.google.com/notebooks/data_table.ipynb>data table notebook</a>'\n",
              "            + ' to learn more about interactive tables.';\n",
              "          element.innerHTML = '';\n",
              "          dataTable['output_type'] = 'display_data';\n",
              "          await google.colab.output.renderOutput(dataTable, element);\n",
              "          const docLink = document.createElement('div');\n",
              "          docLink.innerHTML = docLinkHtml;\n",
              "          element.appendChild(docLink);\n",
              "        }\n",
              "      </script>\n",
              "    </div>\n",
              "  </div>\n",
              "  "
            ]
          },
          "metadata": {},
          "execution_count": 16
        }
      ]
    },
    {
      "cell_type": "markdown",
      "source": [
        "Formatting Dataframes (transformation into total counts)"
      ],
      "metadata": {
        "id": "vEqHX_dPWUn0"
      }
    },
    {
      "cell_type": "code",
      "source": [
        "# There's a whole count matrix (count of every single possible raw sequence).\n",
        "# However, taxonomy has only been assigned to the representative sequences. So these raw sequences are aggregated together into a \"cluster\"\n",
        "\n",
        "cluster_dict = dict() #create dictionary\n",
        "\n",
        "for i in range(len(clustered_data)):\n",
        "  rep_seq = clustered_data.iloc[i][0] #representative sequence for the cluster\n",
        "  list_of_seqs = clustered_data.iloc[i][1].split(',') #sequences that belong to the cluster\n",
        "  for seq in list_of_seqs:\n",
        "    cluster_dict[seq] = rep_seq #dictionary where the representative sequence for all other sequences\n",
        "\n",
        "aggregated_count_matrix = count_matrix.groupby(cluster_dict, axis=0).sum()\n",
        "\n",
        "# only sequence ids that are in both datasets\n",
        "taxonomic_data.index = taxonomic_data.rep_seq\n",
        "taxonomic_data.loc[aggregated_count_matrix.index]\n",
        "\n",
        "# same order of sample names in count matrix and sample data\n",
        "sample_data.index = sample_data.sample_name\n",
        "aggregated_count_matrix = aggregated_count_matrix[sample_data.index]"
      ],
      "metadata": {
        "id": "PQiswtlHWejM"
      },
      "execution_count": null,
      "outputs": []
    },
    {
      "cell_type": "code",
      "source": [
        "aggregated_count_matrix"
      ],
      "metadata": {
        "colab": {
          "base_uri": "https://localhost:8080/",
          "height": 519
        },
        "id": "wFp_XRk2ZWWB",
        "outputId": "460678b1-5198-4c8b-c417-be3a4ab925c5"
      },
      "execution_count": null,
      "outputs": [
        {
          "output_type": "execute_result",
          "data": {
            "text/plain": [
              "                         13507.RTSF.NTC1  13507.RTSF.NTC2  13507.RTSF.NTC3  \\\n",
              "Representative_Sequence                                                      \n",
              "13507.RTSF.NTC1_1                     36                0                0   \n",
              "13507.RTSF.NTC1_101                   56                0                0   \n",
              "13507.RTSF.NTC1_1018                   1                0                0   \n",
              "13507.RTSF.NTC1_1034                   1                0                0   \n",
              "13507.RTSF.NTC1_105                   57                0                0   \n",
              "...                                  ...              ...              ...   \n",
              "13507.SH043.T_9857                     0                0                0   \n",
              "13507.SH043.T_9858                     0                0                0   \n",
              "13507.SH043.T_9904                     0                0                0   \n",
              "13507.SH043.T_9913                     0                0                0   \n",
              "13507.SH043.T_9931                     0                0                0   \n",
              "\n",
              "                         13507.SD200.N  13507.SD200.T  13507.SD231.N  \\\n",
              "Representative_Sequence                                                \n",
              "13507.RTSF.NTC1_1                    0              0              0   \n",
              "13507.RTSF.NTC1_101                  0              0              0   \n",
              "13507.RTSF.NTC1_1018                 0              0              0   \n",
              "13507.RTSF.NTC1_1034                 0              0              0   \n",
              "13507.RTSF.NTC1_105                  0              0              0   \n",
              "...                                ...            ...            ...   \n",
              "13507.SH043.T_9857                   0              0              0   \n",
              "13507.SH043.T_9858                   0              0              0   \n",
              "13507.SH043.T_9904                   0              0              0   \n",
              "13507.SH043.T_9913                   0              0              0   \n",
              "13507.SH043.T_9931                   0              0              0   \n",
              "\n",
              "                         13507.SD231.T  13507.SD239.N  13507.SD239.T  \\\n",
              "Representative_Sequence                                                \n",
              "13507.RTSF.NTC1_1                    0              0              0   \n",
              "13507.RTSF.NTC1_101                  0              0              0   \n",
              "13507.RTSF.NTC1_1018                 0              0              0   \n",
              "13507.RTSF.NTC1_1034                 0              0              0   \n",
              "13507.RTSF.NTC1_105                  0              0              0   \n",
              "...                                ...            ...            ...   \n",
              "13507.SH043.T_9857                   0              0              0   \n",
              "13507.SH043.T_9858                   0              0              0   \n",
              "13507.SH043.T_9904                   0              0              0   \n",
              "13507.SH043.T_9913                   0              0              0   \n",
              "13507.SH043.T_9931                   0              0              0   \n",
              "\n",
              "                         13507.SD262.N  ...  13507.SH036.N  13507.SH036.T  \\\n",
              "Representative_Sequence                 ...                                 \n",
              "13507.RTSF.NTC1_1                    0  ...              0              0   \n",
              "13507.RTSF.NTC1_101                  0  ...              0              0   \n",
              "13507.RTSF.NTC1_1018                 0  ...              0              0   \n",
              "13507.RTSF.NTC1_1034                 0  ...              0              0   \n",
              "13507.RTSF.NTC1_105                  0  ...              0              0   \n",
              "...                                ...  ...            ...            ...   \n",
              "13507.SH043.T_9857                   0  ...              0              0   \n",
              "13507.SH043.T_9858                   0  ...              0              0   \n",
              "13507.SH043.T_9904                   0  ...              0              0   \n",
              "13507.SH043.T_9913                   0  ...              0              0   \n",
              "13507.SH043.T_9931                   0  ...              0              0   \n",
              "\n",
              "                         13507.SH037.N  13507.SH037.T  13507.SH038.N  \\\n",
              "Representative_Sequence                                                \n",
              "13507.RTSF.NTC1_1                    0              0              0   \n",
              "13507.RTSF.NTC1_101                  0              0              0   \n",
              "13507.RTSF.NTC1_1018                 0              0              0   \n",
              "13507.RTSF.NTC1_1034                 0              0              0   \n",
              "13507.RTSF.NTC1_105                  0              0              0   \n",
              "...                                ...            ...            ...   \n",
              "13507.SH043.T_9857                   0              0              0   \n",
              "13507.SH043.T_9858                   0              0              0   \n",
              "13507.SH043.T_9904                   0              0              0   \n",
              "13507.SH043.T_9913                   0              0              0   \n",
              "13507.SH043.T_9931                   0              0              0   \n",
              "\n",
              "                         13507.SH038.T  13507.SH039.N  13507.SH039.T  \\\n",
              "Representative_Sequence                                                \n",
              "13507.RTSF.NTC1_1                    0              0              0   \n",
              "13507.RTSF.NTC1_101                  0              0              0   \n",
              "13507.RTSF.NTC1_1018                 0              0              0   \n",
              "13507.RTSF.NTC1_1034                 0              0              0   \n",
              "13507.RTSF.NTC1_105                  0              0              0   \n",
              "...                                ...            ...            ...   \n",
              "13507.SH043.T_9857                   0              0              0   \n",
              "13507.SH043.T_9858                   0              0              0   \n",
              "13507.SH043.T_9904                   0              0              0   \n",
              "13507.SH043.T_9913                   0              0              0   \n",
              "13507.SH043.T_9931                   0              0              0   \n",
              "\n",
              "                         13507.SH043.N  13507.SH043.T  \n",
              "Representative_Sequence                                \n",
              "13507.RTSF.NTC1_1                    0              0  \n",
              "13507.RTSF.NTC1_101                  0              0  \n",
              "13507.RTSF.NTC1_1018                 0              0  \n",
              "13507.RTSF.NTC1_1034                 0              0  \n",
              "13507.RTSF.NTC1_105                  0              0  \n",
              "...                                ...            ...  \n",
              "13507.SH043.T_9857                   0              1  \n",
              "13507.SH043.T_9858                   0              2  \n",
              "13507.SH043.T_9904                   0              1  \n",
              "13507.SH043.T_9913                   0              1  \n",
              "13507.SH043.T_9931                   0              2  \n",
              "\n",
              "[45870 rows x 51 columns]"
            ],
            "text/html": [
              "\n",
              "  <div id=\"df-2c4d397b-7dfb-404a-85a0-e82cdd94dff9\">\n",
              "    <div class=\"colab-df-container\">\n",
              "      <div>\n",
              "<style scoped>\n",
              "    .dataframe tbody tr th:only-of-type {\n",
              "        vertical-align: middle;\n",
              "    }\n",
              "\n",
              "    .dataframe tbody tr th {\n",
              "        vertical-align: top;\n",
              "    }\n",
              "\n",
              "    .dataframe thead th {\n",
              "        text-align: right;\n",
              "    }\n",
              "</style>\n",
              "<table border=\"1\" class=\"dataframe\">\n",
              "  <thead>\n",
              "    <tr style=\"text-align: right;\">\n",
              "      <th></th>\n",
              "      <th>13507.RTSF.NTC1</th>\n",
              "      <th>13507.RTSF.NTC2</th>\n",
              "      <th>13507.RTSF.NTC3</th>\n",
              "      <th>13507.SD200.N</th>\n",
              "      <th>13507.SD200.T</th>\n",
              "      <th>13507.SD231.N</th>\n",
              "      <th>13507.SD231.T</th>\n",
              "      <th>13507.SD239.N</th>\n",
              "      <th>13507.SD239.T</th>\n",
              "      <th>13507.SD262.N</th>\n",
              "      <th>...</th>\n",
              "      <th>13507.SH036.N</th>\n",
              "      <th>13507.SH036.T</th>\n",
              "      <th>13507.SH037.N</th>\n",
              "      <th>13507.SH037.T</th>\n",
              "      <th>13507.SH038.N</th>\n",
              "      <th>13507.SH038.T</th>\n",
              "      <th>13507.SH039.N</th>\n",
              "      <th>13507.SH039.T</th>\n",
              "      <th>13507.SH043.N</th>\n",
              "      <th>13507.SH043.T</th>\n",
              "    </tr>\n",
              "    <tr>\n",
              "      <th>Representative_Sequence</th>\n",
              "      <th></th>\n",
              "      <th></th>\n",
              "      <th></th>\n",
              "      <th></th>\n",
              "      <th></th>\n",
              "      <th></th>\n",
              "      <th></th>\n",
              "      <th></th>\n",
              "      <th></th>\n",
              "      <th></th>\n",
              "      <th></th>\n",
              "      <th></th>\n",
              "      <th></th>\n",
              "      <th></th>\n",
              "      <th></th>\n",
              "      <th></th>\n",
              "      <th></th>\n",
              "      <th></th>\n",
              "      <th></th>\n",
              "      <th></th>\n",
              "      <th></th>\n",
              "    </tr>\n",
              "  </thead>\n",
              "  <tbody>\n",
              "    <tr>\n",
              "      <th>13507.RTSF.NTC1_1</th>\n",
              "      <td>36</td>\n",
              "      <td>0</td>\n",
              "      <td>0</td>\n",
              "      <td>0</td>\n",
              "      <td>0</td>\n",
              "      <td>0</td>\n",
              "      <td>0</td>\n",
              "      <td>0</td>\n",
              "      <td>0</td>\n",
              "      <td>0</td>\n",
              "      <td>...</td>\n",
              "      <td>0</td>\n",
              "      <td>0</td>\n",
              "      <td>0</td>\n",
              "      <td>0</td>\n",
              "      <td>0</td>\n",
              "      <td>0</td>\n",
              "      <td>0</td>\n",
              "      <td>0</td>\n",
              "      <td>0</td>\n",
              "      <td>0</td>\n",
              "    </tr>\n",
              "    <tr>\n",
              "      <th>13507.RTSF.NTC1_101</th>\n",
              "      <td>56</td>\n",
              "      <td>0</td>\n",
              "      <td>0</td>\n",
              "      <td>0</td>\n",
              "      <td>0</td>\n",
              "      <td>0</td>\n",
              "      <td>0</td>\n",
              "      <td>0</td>\n",
              "      <td>0</td>\n",
              "      <td>0</td>\n",
              "      <td>...</td>\n",
              "      <td>0</td>\n",
              "      <td>0</td>\n",
              "      <td>0</td>\n",
              "      <td>0</td>\n",
              "      <td>0</td>\n",
              "      <td>0</td>\n",
              "      <td>0</td>\n",
              "      <td>0</td>\n",
              "      <td>0</td>\n",
              "      <td>0</td>\n",
              "    </tr>\n",
              "    <tr>\n",
              "      <th>13507.RTSF.NTC1_1018</th>\n",
              "      <td>1</td>\n",
              "      <td>0</td>\n",
              "      <td>0</td>\n",
              "      <td>0</td>\n",
              "      <td>0</td>\n",
              "      <td>0</td>\n",
              "      <td>0</td>\n",
              "      <td>0</td>\n",
              "      <td>0</td>\n",
              "      <td>0</td>\n",
              "      <td>...</td>\n",
              "      <td>0</td>\n",
              "      <td>0</td>\n",
              "      <td>0</td>\n",
              "      <td>0</td>\n",
              "      <td>0</td>\n",
              "      <td>0</td>\n",
              "      <td>0</td>\n",
              "      <td>0</td>\n",
              "      <td>0</td>\n",
              "      <td>0</td>\n",
              "    </tr>\n",
              "    <tr>\n",
              "      <th>13507.RTSF.NTC1_1034</th>\n",
              "      <td>1</td>\n",
              "      <td>0</td>\n",
              "      <td>0</td>\n",
              "      <td>0</td>\n",
              "      <td>0</td>\n",
              "      <td>0</td>\n",
              "      <td>0</td>\n",
              "      <td>0</td>\n",
              "      <td>0</td>\n",
              "      <td>0</td>\n",
              "      <td>...</td>\n",
              "      <td>0</td>\n",
              "      <td>0</td>\n",
              "      <td>0</td>\n",
              "      <td>0</td>\n",
              "      <td>0</td>\n",
              "      <td>0</td>\n",
              "      <td>0</td>\n",
              "      <td>0</td>\n",
              "      <td>0</td>\n",
              "      <td>0</td>\n",
              "    </tr>\n",
              "    <tr>\n",
              "      <th>13507.RTSF.NTC1_105</th>\n",
              "      <td>57</td>\n",
              "      <td>0</td>\n",
              "      <td>0</td>\n",
              "      <td>0</td>\n",
              "      <td>0</td>\n",
              "      <td>0</td>\n",
              "      <td>0</td>\n",
              "      <td>0</td>\n",
              "      <td>0</td>\n",
              "      <td>0</td>\n",
              "      <td>...</td>\n",
              "      <td>0</td>\n",
              "      <td>0</td>\n",
              "      <td>0</td>\n",
              "      <td>0</td>\n",
              "      <td>0</td>\n",
              "      <td>0</td>\n",
              "      <td>0</td>\n",
              "      <td>0</td>\n",
              "      <td>0</td>\n",
              "      <td>0</td>\n",
              "    </tr>\n",
              "    <tr>\n",
              "      <th>...</th>\n",
              "      <td>...</td>\n",
              "      <td>...</td>\n",
              "      <td>...</td>\n",
              "      <td>...</td>\n",
              "      <td>...</td>\n",
              "      <td>...</td>\n",
              "      <td>...</td>\n",
              "      <td>...</td>\n",
              "      <td>...</td>\n",
              "      <td>...</td>\n",
              "      <td>...</td>\n",
              "      <td>...</td>\n",
              "      <td>...</td>\n",
              "      <td>...</td>\n",
              "      <td>...</td>\n",
              "      <td>...</td>\n",
              "      <td>...</td>\n",
              "      <td>...</td>\n",
              "      <td>...</td>\n",
              "      <td>...</td>\n",
              "      <td>...</td>\n",
              "    </tr>\n",
              "    <tr>\n",
              "      <th>13507.SH043.T_9857</th>\n",
              "      <td>0</td>\n",
              "      <td>0</td>\n",
              "      <td>0</td>\n",
              "      <td>0</td>\n",
              "      <td>0</td>\n",
              "      <td>0</td>\n",
              "      <td>0</td>\n",
              "      <td>0</td>\n",
              "      <td>0</td>\n",
              "      <td>0</td>\n",
              "      <td>...</td>\n",
              "      <td>0</td>\n",
              "      <td>0</td>\n",
              "      <td>0</td>\n",
              "      <td>0</td>\n",
              "      <td>0</td>\n",
              "      <td>0</td>\n",
              "      <td>0</td>\n",
              "      <td>0</td>\n",
              "      <td>0</td>\n",
              "      <td>1</td>\n",
              "    </tr>\n",
              "    <tr>\n",
              "      <th>13507.SH043.T_9858</th>\n",
              "      <td>0</td>\n",
              "      <td>0</td>\n",
              "      <td>0</td>\n",
              "      <td>0</td>\n",
              "      <td>0</td>\n",
              "      <td>0</td>\n",
              "      <td>0</td>\n",
              "      <td>0</td>\n",
              "      <td>0</td>\n",
              "      <td>0</td>\n",
              "      <td>...</td>\n",
              "      <td>0</td>\n",
              "      <td>0</td>\n",
              "      <td>0</td>\n",
              "      <td>0</td>\n",
              "      <td>0</td>\n",
              "      <td>0</td>\n",
              "      <td>0</td>\n",
              "      <td>0</td>\n",
              "      <td>0</td>\n",
              "      <td>2</td>\n",
              "    </tr>\n",
              "    <tr>\n",
              "      <th>13507.SH043.T_9904</th>\n",
              "      <td>0</td>\n",
              "      <td>0</td>\n",
              "      <td>0</td>\n",
              "      <td>0</td>\n",
              "      <td>0</td>\n",
              "      <td>0</td>\n",
              "      <td>0</td>\n",
              "      <td>0</td>\n",
              "      <td>0</td>\n",
              "      <td>0</td>\n",
              "      <td>...</td>\n",
              "      <td>0</td>\n",
              "      <td>0</td>\n",
              "      <td>0</td>\n",
              "      <td>0</td>\n",
              "      <td>0</td>\n",
              "      <td>0</td>\n",
              "      <td>0</td>\n",
              "      <td>0</td>\n",
              "      <td>0</td>\n",
              "      <td>1</td>\n",
              "    </tr>\n",
              "    <tr>\n",
              "      <th>13507.SH043.T_9913</th>\n",
              "      <td>0</td>\n",
              "      <td>0</td>\n",
              "      <td>0</td>\n",
              "      <td>0</td>\n",
              "      <td>0</td>\n",
              "      <td>0</td>\n",
              "      <td>0</td>\n",
              "      <td>0</td>\n",
              "      <td>0</td>\n",
              "      <td>0</td>\n",
              "      <td>...</td>\n",
              "      <td>0</td>\n",
              "      <td>0</td>\n",
              "      <td>0</td>\n",
              "      <td>0</td>\n",
              "      <td>0</td>\n",
              "      <td>0</td>\n",
              "      <td>0</td>\n",
              "      <td>0</td>\n",
              "      <td>0</td>\n",
              "      <td>1</td>\n",
              "    </tr>\n",
              "    <tr>\n",
              "      <th>13507.SH043.T_9931</th>\n",
              "      <td>0</td>\n",
              "      <td>0</td>\n",
              "      <td>0</td>\n",
              "      <td>0</td>\n",
              "      <td>0</td>\n",
              "      <td>0</td>\n",
              "      <td>0</td>\n",
              "      <td>0</td>\n",
              "      <td>0</td>\n",
              "      <td>0</td>\n",
              "      <td>...</td>\n",
              "      <td>0</td>\n",
              "      <td>0</td>\n",
              "      <td>0</td>\n",
              "      <td>0</td>\n",
              "      <td>0</td>\n",
              "      <td>0</td>\n",
              "      <td>0</td>\n",
              "      <td>0</td>\n",
              "      <td>0</td>\n",
              "      <td>2</td>\n",
              "    </tr>\n",
              "  </tbody>\n",
              "</table>\n",
              "<p>45870 rows × 51 columns</p>\n",
              "</div>\n",
              "      <button class=\"colab-df-convert\" onclick=\"convertToInteractive('df-2c4d397b-7dfb-404a-85a0-e82cdd94dff9')\"\n",
              "              title=\"Convert this dataframe to an interactive table.\"\n",
              "              style=\"display:none;\">\n",
              "        \n",
              "  <svg xmlns=\"http://www.w3.org/2000/svg\" height=\"24px\"viewBox=\"0 0 24 24\"\n",
              "       width=\"24px\">\n",
              "    <path d=\"M0 0h24v24H0V0z\" fill=\"none\"/>\n",
              "    <path d=\"M18.56 5.44l.94 2.06.94-2.06 2.06-.94-2.06-.94-.94-2.06-.94 2.06-2.06.94zm-11 1L8.5 8.5l.94-2.06 2.06-.94-2.06-.94L8.5 2.5l-.94 2.06-2.06.94zm10 10l.94 2.06.94-2.06 2.06-.94-2.06-.94-.94-2.06-.94 2.06-2.06.94z\"/><path d=\"M17.41 7.96l-1.37-1.37c-.4-.4-.92-.59-1.43-.59-.52 0-1.04.2-1.43.59L10.3 9.45l-7.72 7.72c-.78.78-.78 2.05 0 2.83L4 21.41c.39.39.9.59 1.41.59.51 0 1.02-.2 1.41-.59l7.78-7.78 2.81-2.81c.8-.78.8-2.07 0-2.86zM5.41 20L4 18.59l7.72-7.72 1.47 1.35L5.41 20z\"/>\n",
              "  </svg>\n",
              "      </button>\n",
              "      \n",
              "  <style>\n",
              "    .colab-df-container {\n",
              "      display:flex;\n",
              "      flex-wrap:wrap;\n",
              "      gap: 12px;\n",
              "    }\n",
              "\n",
              "    .colab-df-convert {\n",
              "      background-color: #E8F0FE;\n",
              "      border: none;\n",
              "      border-radius: 50%;\n",
              "      cursor: pointer;\n",
              "      display: none;\n",
              "      fill: #1967D2;\n",
              "      height: 32px;\n",
              "      padding: 0 0 0 0;\n",
              "      width: 32px;\n",
              "    }\n",
              "\n",
              "    .colab-df-convert:hover {\n",
              "      background-color: #E2EBFA;\n",
              "      box-shadow: 0px 1px 2px rgba(60, 64, 67, 0.3), 0px 1px 3px 1px rgba(60, 64, 67, 0.15);\n",
              "      fill: #174EA6;\n",
              "    }\n",
              "\n",
              "    [theme=dark] .colab-df-convert {\n",
              "      background-color: #3B4455;\n",
              "      fill: #D2E3FC;\n",
              "    }\n",
              "\n",
              "    [theme=dark] .colab-df-convert:hover {\n",
              "      background-color: #434B5C;\n",
              "      box-shadow: 0px 1px 3px 1px rgba(0, 0, 0, 0.15);\n",
              "      filter: drop-shadow(0px 1px 2px rgba(0, 0, 0, 0.3));\n",
              "      fill: #FFFFFF;\n",
              "    }\n",
              "  </style>\n",
              "\n",
              "      <script>\n",
              "        const buttonEl =\n",
              "          document.querySelector('#df-2c4d397b-7dfb-404a-85a0-e82cdd94dff9 button.colab-df-convert');\n",
              "        buttonEl.style.display =\n",
              "          google.colab.kernel.accessAllowed ? 'block' : 'none';\n",
              "\n",
              "        async function convertToInteractive(key) {\n",
              "          const element = document.querySelector('#df-2c4d397b-7dfb-404a-85a0-e82cdd94dff9');\n",
              "          const dataTable =\n",
              "            await google.colab.kernel.invokeFunction('convertToInteractive',\n",
              "                                                     [key], {});\n",
              "          if (!dataTable) return;\n",
              "\n",
              "          const docLinkHtml = 'Like what you see? Visit the ' +\n",
              "            '<a target=\"_blank\" href=https://colab.research.google.com/notebooks/data_table.ipynb>data table notebook</a>'\n",
              "            + ' to learn more about interactive tables.';\n",
              "          element.innerHTML = '';\n",
              "          dataTable['output_type'] = 'display_data';\n",
              "          await google.colab.output.renderOutput(dataTable, element);\n",
              "          const docLink = document.createElement('div');\n",
              "          docLink.innerHTML = docLinkHtml;\n",
              "          element.appendChild(docLink);\n",
              "        }\n",
              "      </script>\n",
              "    </div>\n",
              "  </div>\n",
              "  "
            ]
          },
          "metadata": {},
          "execution_count": 18
        }
      ]
    },
    {
      "cell_type": "markdown",
      "source": [
        "**Results/Analysis**"
      ],
      "metadata": {
        "id": "FkgHLEFLYzAW"
      }
    },
    {
      "cell_type": "markdown",
      "source": [
        "*FEV1 Correlation with bacteria clusters*"
      ],
      "metadata": {
        "id": "u0XlqsuOUUPV"
      }
    },
    {
      "cell_type": "code",
      "source": [
        "# calculating significance value\n",
        "\n",
        "seq_list = []\n",
        "count = 0\n",
        "\n",
        "for index in range(len(clustered_data)):\n",
        "  seq_list = clustered_data[1][index].split(\",\")\n",
        "  if len(seq_list) >= 300:\n",
        "    count += 1\n",
        "  seq_list = []\n",
        "\n",
        "print(count)\n",
        "a_level = 0.05/count\n",
        "print(a_level)"
      ],
      "metadata": {
        "colab": {
          "base_uri": "https://localhost:8080/"
        },
        "id": "DktBSCqXY1Vi",
        "outputId": "725f9992-2b52-415f-cbab-597679be4e1f"
      },
      "execution_count": null,
      "outputs": [
        {
          "output_type": "stream",
          "name": "stdout",
          "text": [
            "124\n",
            "0.0004032258064516129\n"
          ]
        }
      ]
    },
    {
      "cell_type": "code",
      "source": [
        "from scipy import stats\n",
        "\n",
        "fev1 = pd.to_numeric(sample_data.fev1, errors='coerce')\n",
        "pvalues = []\n",
        "bacteria_names = []\n",
        "corr_values = []\n",
        "for bact_name in aggregated_count_matrix.index:\n",
        "  bacteria_counts = aggregated_count_matrix.loc[bact_name]\n",
        "  result = stats.spearmanr(fev1, bacteria_counts, nan_policy='omit')\n",
        "  if result.pvalue < a_level:\n",
        "    pvalues.append(result.pvalue)\n",
        "    bacteria_names.append(bact_name)\n",
        "    corr_values.append(result.correlation)\n",
        "\n",
        "min_index = np.argmin(pvalues)\n",
        "print(pvalues[min_index])\n",
        "print(bacteria_names[min_index])\n",
        "print(corr_values[min_index])\n",
        "\n",
        "bacteria_counts = aggregated_count_matrix.loc[bacteria_names[min_index]] #okay, why does this make sense?\n",
        "plt.scatter(fev1, bacteria_counts)\n",
        "plt.xlabel(\"FEV1 Score\")\n",
        "plt.ylabel(\"Bacetria Counts\")\n",
        "\n",
        "#aggregated_count_matrix has representative sequence as rows, the columns are the patients, and the number == the number of times that representative sequence appeared in patient"
      ],
      "metadata": {
        "id": "usZMfXbXcLc6",
        "colab": {
          "base_uri": "https://localhost:8080/",
          "height": 350
        },
        "outputId": "9651efc6-010e-496c-8365-ddd1cfd94fda"
      },
      "execution_count": null,
      "outputs": [
        {
          "output_type": "stream",
          "name": "stdout",
          "text": [
            "5.484755493682767e-06\n",
            "13507.SD239.T_13466\n",
            "0.6203459931321331\n"
          ]
        },
        {
          "output_type": "execute_result",
          "data": {
            "text/plain": [
              "Text(0, 0.5, 'Bacetria Counts')"
            ]
          },
          "metadata": {},
          "execution_count": 20
        },
        {
          "output_type": "display_data",
          "data": {
            "text/plain": [
              "<Figure size 432x288 with 1 Axes>"
            ],
            "image/png": "[encoded data removed]"
          },
          "metadata": {
            "needs_background": "light"
          }
        }
      ]
    },
    {
      "cell_type": "code",
      "source": [
        "#Gather X_train, Y_train, X_test, Y_test based on bacetia that had statistically significant correlation to FEV1 score from previous step:\n",
        "bc_all_sig = aggregated_count_matrix.loc[bacteria_names] #The number of counts per patient per representative sequence (input/feature variable)\n",
        "\n",
        "#What is FEV1 score? This is what we want to predict (response variable)\n",
        "clean_idx = np.where(np.isnan(fev1) == False)[0]\n",
        "clean_fev1 = fev1[clean_idx].values\n",
        "patient_names = bc_all_sig.columns\n",
        "keep_cols = patient_names[clean_idx]\n",
        "\n",
        "#Drop NaNs, convert to np.array and transpose so rows == samples\n",
        "bcas_nn = bc_all_sig[keep_cols].values.T\n",
        "\n",
        "X = bcas_nn\n",
        "y = clean_fev1\n"
      ],
      "metadata": {
        "id": "bK0ijX8mkeKa"
      },
      "execution_count": null,
      "outputs": []
    },
    {
      "cell_type": "code",
      "source": [
        "X"
      ],
      "metadata": {
        "colab": {
          "base_uri": "https://localhost:8080/"
        },
        "id": "D2ZV6gstRq1P",
        "outputId": "7e5e6d1e-88ca-4b47-af27-9d862404c91a"
      },
      "execution_count": null,
      "outputs": [
        {
          "output_type": "execute_result",
          "data": {
            "text/plain": [
              "array([[  0,   0,   0,   0,   0],\n",
              "       [172,   0,   0,   0,   0],\n",
              "       [  0,   0,   0,   0,   0],\n",
              "       [  1,   0,   0,   0,   0],\n",
              "       [  0,   0,   0,   0,   0],\n",
              "       [  0,  10,   0,   0,   0],\n",
              "       [  0,   0,   8,   0,   0],\n",
              "       [  0,   0,  30,   0,   0],\n",
              "       [  0,   0,   1,   0,   0],\n",
              "       [  0,   0,   0,   0,   0],\n",
              "       [  3,   0,   0,   0,   0],\n",
              "       [ 45,  25, 135,   0,   0],\n",
              "       [  2,  46,   0,   0,   0],\n",
              "       [ 54, 240, 406,  91,   0],\n",
              "       [  0, 627,   0,   0,   0],\n",
              "       [  0,   0,   0,   0,   0],\n",
              "       [  9,  14,   0,   0,   0],\n",
              "       [ 32, 111, 210,   0,   0],\n",
              "       [  0,   0,   0,   0,   0],\n",
              "       [  0,   0,   2,   0,   0],\n",
              "       [  0,   3,   0,   0,   0],\n",
              "       [ 11,   1,   1,   0,   0],\n",
              "       [  6,   4, 205,  12,   0],\n",
              "       [ 82, 156, 729,  20,   4],\n",
              "       [  0,   0,   0,   0,   0],\n",
              "       [  7,   0,   0,   0,   0],\n",
              "       [166,  96,  54,  16,  13],\n",
              "       [646, 275, 267,  15,  49],\n",
              "       [  0,   0,   0,   0,   0],\n",
              "       [  0,   0,   0,   0,   0],\n",
              "       [  1,   0,   0,   0,   0],\n",
              "       [  2,   0,   0,   0,   0],\n",
              "       [  0,   1,   0,   0,   0],\n",
              "       [ 23,  20,  11, 106,   6],\n",
              "       [  3,   0,  13,   9,   7],\n",
              "       [  0,   0,   0,   0,   0],\n",
              "       [  0,   0,   0,   0,   0],\n",
              "       [  0,   0,   0,   0,   0],\n",
              "       [  0,   0,   0,   0,   0],\n",
              "       [  0,   0,   0,   0,   0],\n",
              "       [  0,   0,   0,   0,   0],\n",
              "       [  0,   3,   0,   0,   0],\n",
              "       [  0,   0,   0,   0,   0],\n",
              "       [  0,   0,   0,   0,   0],\n",
              "       [  0,   5,   0,   0,   0]])"
            ]
          },
          "metadata": {},
          "execution_count": 22
        }
      ]
    },
    {
      "cell_type": "code",
      "source": [
        "#Throw out low-count data\n",
        "\n",
        "row_sum = X.sum(axis = 1)\n",
        "keep_these = np.where(row_sum > 3)[0]\n",
        "X = X[keep_these]\n",
        "y = y[keep_these]\n",
        "row_sum = row_sum[keep_these]\n",
        "np.shape(X)"
      ],
      "metadata": {
        "colab": {
          "base_uri": "https://localhost:8080/"
        },
        "id": "IkodY4ABzuFq",
        "outputId": "1fda0da4-b0de-48c8-aa84-a244466a8e89"
      },
      "execution_count": null,
      "outputs": [
        {
          "output_type": "execute_result",
          "data": {
            "text/plain": [
              "(19, 5)"
            ]
          },
          "metadata": {},
          "execution_count": 23
        }
      ]
    },
    {
      "cell_type": "code",
      "source": [
        "\n",
        "#Firstly, how does a linear model work? LSTSQ!\n",
        "\n",
        "#lstsq fit, pinv(x)*Y\n",
        "\n",
        "#The number of counts in highly correlated bacteria is sometimes low, toss these samples also.\n",
        "\n",
        "w = np.linalg.pinv(X)@y\n",
        "\n",
        "y_pred = X@w\n",
        "\n",
        "#What metrics do we want to look at? RMSE? Max-delta?\n",
        "\n",
        "rmse = np.sqrt(mean_squared_error(y,y_pred))\n",
        "max_delta = np.max(np.abs(y-y_pred))\n",
        "\n",
        "reg = linregress(y_pred, y)\n",
        "r2 = reg.rvalue**2\n",
        "slope = reg.slope\n",
        "offset = reg.intercept\n",
        "\n",
        "\n",
        "\n",
        "plt.plot(y,y_pred, \"*\", color=\"blue\")\n",
        "plt.xlabel(\"True FEV1\")\n",
        "plt.ylabel(\"Prediction from Linear Model\")\n",
        "stats = f\"R2: {r2 :.2f}, Slope: {slope :.2f}, RMSE: {rmse :.3f}, Max-Delta: {max_delta :.3f}\"\n",
        "plt.title(f\"{stats}\")\n",
        "plt.show()\n"
      ],
      "metadata": {
        "colab": {
          "base_uri": "https://localhost:8080/",
          "height": 295
        },
        "id": "05drjXNDztAE",
        "outputId": "fb376005-93f7-4d6d-8bf6-352df65507d6"
      },
      "execution_count": null,
      "outputs": [
        {
          "output_type": "display_data",
          "data": {
            "text/plain": [
              "<Figure size 432x288 with 1 Axes>"
            ],
            "image/png": "[encoded data removed]"
          },
          "metadata": {
            "needs_background": "light"
          }
        }
      ]
    },
    {
      "cell_type": "markdown",
      "source": [
        "Performed poorly, but this is expected since we can see the relationship between FEV1 and counts is non-linear.\n",
        "\n",
        "Let's just throw a NN at it."
      ],
      "metadata": {
        "id": "ufArLEcFuEIf"
      }
    },
    {
      "cell_type": "code",
      "source": [
        "model = keras.Sequential(\n",
        "    [\n",
        "        layers.Dense(30, input_shape = (5,), activation=\"relu\", name=\"layer1\"),\n",
        "        layers.Dense(60, input_shape = (30, ) ,activation=\"relu\", name=\"layer2\"),\n",
        "        layers.Dense(120, input_shape = (60, ) ,activation=\"relu\", name=\"layer3\"),\n",
        "        layers.Dense(240, input_shape = (120, ) ,activation=\"relu\", name=\"layer4\"),\n",
        "        layers.Dense(240, input_shape = (240, ) ,activation=\"relu\", name=\"layer5\"),\n",
        "        layers.Dense(120, input_shape = (240, ) ,activation=\"relu\", name=\"layer6\"),\n",
        "        layers.Dense(60, input_shape = (120, ) ,activation=\"relu\", name=\"layer7\"),\n",
        "        layers.Dense(30,  input_shape = (60, ),activation=\"relu\", name=\"layer8\"),\n",
        "        layers.Dense(1,  input_shape = (30, ), name=\"layer9\")\n",
        "    ]\n",
        ")\n",
        "model.compile(optimizer=tf.keras.optimizers.Adam(learning_rate = 0.001, beta_1 = 0.9, beta_2 = 0.999 ),loss='mse')"
      ],
      "metadata": {
        "id": "ivTWKO0XmLOg"
      },
      "execution_count": null,
      "outputs": []
    },
    {
      "cell_type": "code",
      "source": [
        "#callbacks = [\n",
        "  #          tf.keras.callbacks.EarlyStopping(monitor = 'val_loss', patience=25, verbose = 1, min_delta = 1e-4),\n",
        " #       ]"
      ],
      "metadata": {
        "id": "kuHtmViRuXgM"
      },
      "execution_count": null,
      "outputs": []
    },
    {
      "cell_type": "code",
      "source": [
        "#Train our neural network!\n",
        "\n",
        "history = model.fit(X, y, epochs=10000, verbose=0)"
      ],
      "metadata": {
        "id": "O6I8zjSvuaFm"
      },
      "execution_count": null,
      "outputs": []
    },
    {
      "cell_type": "code",
      "source": [
        "y_pred = model.predict(X).reshape(-1,)\n",
        "\n",
        "rmse = np.sqrt(mean_squared_error(y,y_pred))\n",
        "max_delta = np.max(np.abs(y-y_pred))\n",
        "\n",
        "reg = linregress(y_pred, y)\n",
        "r2 = reg.rvalue**2\n",
        "slope = reg.slope\n",
        "offset = reg.intercept\n",
        "\n",
        "plt.plot(y,y_pred, \"*\", color=\"blue\")\n",
        "plt.xlabel(\"True FEV1\")\n",
        "plt.ylabel(\"Prediction from Neural Network\")\n",
        "stats = f\"R2: {r2 :.2f}, Slope: {slope :.2f}, RMSE: {rmse :.3f}, Max-Delta: {max_delta :.3f}\"\n",
        "plt.title(f\"{stats}\")\n",
        "plt.show()\n",
        "\n"
      ],
      "metadata": {
        "colab": {
          "base_uri": "https://localhost:8080/",
          "height": 313
        },
        "id": "Ww8AxFJgwhtW",
        "outputId": "f8b7e4e1-8ae1-4df1-a694-a886da60d543"
      },
      "execution_count": null,
      "outputs": [
        {
          "output_type": "stream",
          "name": "stdout",
          "text": [
            "1/1 [==============================] - 0s 138ms/step\n"
          ]
        },
        {
          "output_type": "display_data",
          "data": {
            "text/plain": [
              "<Figure size 432x288 with 1 Axes>"
            ],
            "image/png": "[encoded data removed]"
          },
          "metadata": {
            "needs_background": "light"
          }
        }
      ]
    },
    {
      "cell_type": "code",
      "source": [
        "delta = np.abs(y - y_pred)\n",
        "plt.plot(y, \"*\", color=\"orange\", label = \"True FEV1\")\n",
        "plt.plot(y_pred, \"*\", color=\"blue\", label = \"predicted\")\n",
        "plt.plot(delta, \"o\", color = \"red\", label = \"|True FEV1 - Predicted FEV1|\")\n",
        "plt.xlabel(\"Sample Number\")\n",
        "plt.ylabel(\"FEV1 Score\")\n",
        "plt.axhline(5, color = \"green\")\n",
        "#plt.legend()\n",
        "plt.show()\n",
        "\n",
        "chk_these = np.where(delta > 5)[0]\n",
        "y[chk_these], y_pred[chk_these], X[chk_these]\n",
        "\n",
        "#Aha! It looks like the #counts of the best sequences is 0 sometimes. Let's remove these from plots/training?\n",
        "\n"
      ],
      "metadata": {
        "colab": {
          "base_uri": "https://localhost:8080/",
          "height": 333
        },
        "id": "cZW47RcxxKSY",
        "outputId": "e191666f-e817-448d-d7bf-ad9ddecee686"
      },
      "execution_count": null,
      "outputs": [
        {
          "output_type": "display_data",
          "data": {
            "text/plain": [
              "<Figure size 432x288 with 1 Axes>"
            ],
            "image/png": "[encoded data removed]"
          },
          "metadata": {
            "needs_background": "light"
          }
        },
        {
          "output_type": "execute_result",
          "data": {
            "text/plain": [
              "(array([], dtype=float64),\n",
              " array([], dtype=float32),\n",
              " array([], shape=(0, 5), dtype=int64))"
            ]
          },
          "metadata": {},
          "execution_count": 29
        }
      ]
    },
    {
      "cell_type": "code",
      "source": [
        "#Let's try kernel ridge-regression!\n",
        "\n",
        "from sklearn.kernel_ridge import KernelRidge\n",
        "\n",
        "krr = KernelRidge(alpha=0.0, kernel  = \"poly\", degree = 2)\n",
        "krr.fit(X, y)\n",
        "y_pred = krr.predict(X)\n",
        "\n",
        "rmse = np.sqrt(mean_squared_error(y,y_pred))\n",
        "max_delta = np.max(np.abs(y-y_pred))\n",
        "\n",
        "reg = linregress(y_pred, y)\n",
        "r2 = reg.rvalue**2\n",
        "slope = reg.slope\n",
        "offset = reg.intercept\n",
        "\n",
        "plt.plot(y,y_pred, \"*\", color=\"blue\")\n",
        "plt.xlabel(\"True FEV1\")\n",
        "plt.ylabel(\"Prediction from Kernerlized Ridge Regression Model\")\n",
        "stats = f\"R2: {r2 :.2f}, Slope: {slope :.2f}, RMSE: {rmse :.3f}, Max-Delta: {max_delta :.3f}\"\n",
        "plt.title(f\"{stats}\")\n",
        "plt.show()\n"
      ],
      "metadata": {
        "colab": {
          "base_uri": "https://localhost:8080/",
          "height": 356
        },
        "id": "LPRZ5beA2GgD",
        "outputId": "e9bd30e6-90f5-4d6a-9d55-e562f220f8e6"
      },
      "execution_count": null,
      "outputs": [
        {
          "output_type": "stream",
          "name": "stderr",
          "text": [
            "/usr/local/lib/python3.8/dist-packages/sklearn/linear_model/_ridge.py:196: UserWarning: Singular matrix in solving dual problem. Using least-squares solution instead.\n",
            "  warnings.warn(\n"
          ]
        },
        {
          "output_type": "display_data",
          "data": {
            "text/plain": [
              "<Figure size 432x288 with 1 Axes>"
            ],
            "image/png": "[encoded data removed]"
          },
          "metadata": {
            "needs_background": "light"
          }
        }
      ]
    },
    {
      "cell_type": "code",
      "source": [
        "#for bac in bact_names:\n",
        "#  plt(bac_counts, fev1)\n",
        "\n",
        "#plt.plot(row_sum, y, \"o\", color = \"green\")\n",
        "#plt.xlabel(\"Total counts of Significant Bacteria\")\n",
        "#plt.ylabel(\"FEV1 Score\")\n"
      ],
      "metadata": {
        "id": "crv6a7kIWE0E"
      },
      "execution_count": null,
      "outputs": []
    },
    {
      "cell_type": "code",
      "source": [
        "plt.plot(row_sum, y, \"o\", color = \"green\")\n",
        "plt.xlabel(\"Total counts of Significant Bacteria\")\n",
        "plt.ylabel(\"FEV1 Score\")\n"
      ],
      "metadata": {
        "id": "h07vjU9iTKqH",
        "colab": {
          "base_uri": "https://localhost:8080/",
          "height": 297
        },
        "outputId": "1b3bac98-0b66-4aa0-dc2f-c6692adbc137"
      },
      "execution_count": null,
      "outputs": [
        {
          "output_type": "execute_result",
          "data": {
            "text/plain": [
              "Text(0, 0.5, 'FEV1 Score')"
            ]
          },
          "metadata": {},
          "execution_count": 32
        },
        {
          "output_type": "display_data",
          "data": {
            "text/plain": [
              "<Figure size 432x288 with 1 Axes>"
            ],
            "image/png": "[encoded data removed]"
          },
          "metadata": {
            "needs_background": "light"
          }
        }
      ]
    },
    {
      "cell_type": "code",
      "source": [
        "keep_these = np.where(delta < 5)[0]\n",
        "y = y[keep_these]\n",
        "y_pred = y_pred[keep_these]\n",
        "\n",
        "rmse = np.sqrt(mean_squared_error(y,y_pred))\n",
        "max_delta = np.max(np.abs(y-y_pred))\n",
        "\n",
        "reg = linregress(y_pred, y)\n",
        "r2 = reg.rvalue**2\n",
        "slope = reg.slope\n",
        "offset = reg.intercept\n",
        "\n",
        "plt.plot(y,y_pred, \"*\", color=\"blue\")\n",
        "plt.xlabel(\"True FEV1\")\n",
        "plt.ylabel(\"Prediction from Linear Model\")\n",
        "stats = f\"R2: {r2 :.2f}, Slope: {slope :.2f}, RMSE: {rmse :.3f}, Max-Delta: {max_delta :.3f}\"\n",
        "plt.title(f\"{stats}\")\n",
        "plt.show()"
      ],
      "metadata": {
        "colab": {
          "base_uri": "https://localhost:8080/",
          "height": 295
        },
        "id": "p3geEjJqzDjg",
        "outputId": "0f196e0d-dfa6-4c08-8ab4-8d12d55c2b43"
      },
      "execution_count": null,
      "outputs": [
        {
          "output_type": "display_data",
          "data": {
            "text/plain": [
              "<Figure size 432x288 with 1 Axes>"
            ],
            "image/png": "[encoded data removed]"
          },
          "metadata": {
            "needs_background": "light"
          }
        }
      ]
    },
    {
      "cell_type": "code",
      "source": [
        "#Create delta plot, analyze what is going on for poor-predicting samples:\n",
        "\n",
        "\n",
        "plt.plot(delta, label = \"|True FEV1 - Predicted FEV1|\")\n",
        "plt.xlabel(\"Sample Number\")\n",
        "plt.ylabel(\"Difference\")\n",
        "plt.legend()\n",
        "plt.show"
      ],
      "metadata": {
        "colab": {
          "base_uri": "https://localhost:8080/",
          "height": 308
        },
        "id": "c_sQ3Rw8xqWx",
        "outputId": "072f008e-e358-480f-8bc0-82aff7012ef3"
      },
      "execution_count": null,
      "outputs": [
        {
          "output_type": "execute_result",
          "data": {
            "text/plain": [
              "<function matplotlib.pyplot.show(*args, **kw)>"
            ]
          },
          "metadata": {},
          "execution_count": 34
        },
        {
          "output_type": "display_data",
          "data": {
            "text/plain": [
              "<Figure size 432x288 with 1 Axes>"
            ],
            "image/png": "[encoded data removed]"
          },
          "metadata": {
            "needs_background": "light"
          }
        }
      ]
    },
    {
      "cell_type": "code",
      "source": [
        "#Check for overfitting and underfitting! Are you familiar with what overfitting and underfitting are? You can give me your answer to this as a yes/no in the Polygence chat.\n",
        "\n",
        "#val_loss = history.history['val_loss']\n",
        "train_loss = history.history['loss']\n",
        "\n",
        "plt.plot(train_loss[-20:], label = \"Loss on Training Set\", color = \"blue\") #Loss is still extremely high, could be a problem. Overfitting like crazy also\n",
        "#plt.plot(val_loss[-20:], label = \"Loss on Validation Set\", color = \"orange\")\n",
        "plt.xlabel(\"Epoch\")\n",
        "plt.ylabel(\"Mean-Squared Error\")\n",
        "plt.title(\"Validation and Training loss Versus Epoch\")\n",
        "plt.show()"
      ],
      "metadata": {
        "colab": {
          "base_uri": "https://localhost:8080/",
          "height": 295
        },
        "id": "TIDk2EOpulyi",
        "outputId": "63694074-7f61-48c2-961d-2b054f8cd2c0"
      },
      "execution_count": null,
      "outputs": [
        {
          "output_type": "display_data",
          "data": {
            "text/plain": [
              "<Figure size 432x288 with 1 Axes>"
            ],
            "image/png": "[encoded data removed]"
          },
          "metadata": {
            "needs_background": "light"
          }
        }
      ]
    },
    {
      "cell_type": "code",
      "source": [],
      "metadata": {
        "id": "d0Xo9O8VvX4E"
      },
      "execution_count": null,
      "outputs": []
    },
    {
      "cell_type": "code",
      "source": [
        "for x in bacteria_names:\n",
        "  print(taxonomic_data.loc[x]['genus'])"
      ],
      "metadata": {
        "id": "CE1twC7AfBWj",
        "colab": {
          "base_uri": "https://localhost:8080/"
        },
        "outputId": "2d4eac9a-dccd-490a-d200-9a5fa7b96f69"
      },
      "execution_count": null,
      "outputs": [
        {
          "output_type": "stream",
          "name": "stdout",
          "text": [
            "Leptotrichia\n",
            "Fusobacterium\n",
            "Actinomyces\n",
            "Corynebacterium\n",
            "Selenomonas\n"
          ]
        }
      ]
    },
    {
      "cell_type": "code",
      "source": [
        "#The correlation values, p-values and bacteria names of statistically significant bacteria/FEV1\n",
        "print(corr_values)\n",
        "print(pvalues)\n",
        "print(bacteria_names)"
      ],
      "metadata": {
        "id": "d_w1uQdab8_L",
        "colab": {
          "base_uri": "https://localhost:8080/"
        },
        "outputId": "27c46ef4-4a90-4539-a732-1fe1db619ffa"
      },
      "execution_count": null,
      "outputs": [
        {
          "output_type": "stream",
          "name": "stdout",
          "text": [
            "[0.5348433192303289, 0.6203459931321331, 0.5769829170980344, 0.5262549262444586, 0.5228050675443686]\n",
            "[0.00015371041582284406, 5.484755493682767e-06, 3.3409855558508355e-05, 0.0002047744695476323, 0.00022928938851817288]\n",
            "['13507.SD200.T_57', '13507.SD239.T_13466', '13507.SD262.N_2629', '13507.SD309.T_337', '13507.SH009.T_2657']\n"
          ]
        }
      ]
    },
    {
      "cell_type": "code",
      "source": [
        "#Manasvi example to get figure for her first paper!\n",
        "\n",
        "bacteria_counts = aggregated_count_matrix.loc[bacteria_names[3]]\n",
        "plt.scatter(fev1, bacteria_counts)\n",
        "plt.xlabel(\"FEV1 Score\")\n",
        "plt.ylabel(\"Number of Identifications Per Patient\")\n",
        "plt.title(\"Correlation of Actinomyces Bacteria Cluster with FEV1\")"
      ],
      "metadata": {
        "id": "ExRhKNs_09ly",
        "colab": {
          "base_uri": "https://localhost:8080/",
          "height": 313
        },
        "outputId": "dad7e1ef-c114-47d7-9863-a0512958caaa"
      },
      "execution_count": null,
      "outputs": [
        {
          "output_type": "execute_result",
          "data": {
            "text/plain": [
              "Text(0.5, 1.0, 'Correlation of Actinomyces Bacteria Cluster with FEV1')"
            ]
          },
          "metadata": {},
          "execution_count": 38
        },
        {
          "output_type": "display_data",
          "data": {
            "text/plain": [
              "<Figure size 432x288 with 1 Axes>"
            ],
            "image/png": "[encoded data removed]"
          },
          "metadata": {
            "needs_background": "light"
          }
        }
      ]
    },
    {
      "cell_type": "markdown",
      "source": [
        "*FEV1 Correlation with genus, family, order, class, phylum*"
      ],
      "metadata": {
        "id": "RhNUnQSzYVNB"
      }
    },
    {
      "cell_type": "code",
      "source": [
        "genus_dict = dict()\n",
        "for rep_seq in taxonomic_data.index:\n",
        "  genus = taxonomic_data.loc[rep_seq].genus\n",
        "  genus_dict[rep_seq] = genus\n",
        "\n",
        "genus_aggregated_count_matrix = aggregated_count_matrix.groupby(genus_dict).sum()\n",
        "\n",
        "genus_aggregated_count_matrix = genus_aggregated_count_matrix[sample_data.index]"
      ],
      "metadata": {
        "id": "J8PmuFhIZFSD"
      },
      "execution_count": null,
      "outputs": []
    },
    {
      "cell_type": "code",
      "source": [
        "fev1 = pd.to_numeric(sample_data.fev1, errors='coerce')\n",
        "pvalues_genus = []\n",
        "genus_names = []\n",
        "corr_genus = []\n",
        "\n",
        "for genus in genus_aggregated_count_matrix.index:\n",
        "  genus_counts = genus_aggregated_count_matrix.loc[genus]\n",
        "  result = stats.spearmanr(fev1, genus_counts, nan_policy='omit')\n",
        "  if result.pvalue < a_level:\n",
        "    pvalues_genus.append(result.pvalue)\n",
        "    genus_names.append(genus)\n",
        "    corr_genus.append(result.correlation)\n",
        "\n",
        "print(genus_names)\n",
        "\n",
        "min_index = np.argmin(pvalues_genus)\n",
        "print(pvalues_genus[min_index])\n",
        "print(genus_names[min_index])\n",
        "print(corr_genus[min_index])\n",
        "\n",
        "genus_counts = genus_aggregated_count_matrix.loc[genus_names[min_index]]\n",
        "plt.scatter(fev1, genus_counts)\n",
        "plt.xlabel(\"FEV1 Score\")\n",
        "plt.ylabel(\"Number of Identifications Per Patient\")\n",
        "plt.title(\"Correlation of Leptotrichiaceae Genus with FEV1\")"
      ],
      "metadata": {
        "id": "YyizbyxCYYO2",
        "colab": {
          "base_uri": "https://localhost:8080/",
          "height": 382
        },
        "outputId": "b880aebb-283b-4422-a2ba-8cdb363d6d14"
      },
      "execution_count": null,
      "outputs": [
        {
          "output_type": "stream",
          "name": "stdout",
          "text": [
            "['\"Leptotrichiaceae\"_unclassified']\n",
            "0.0003603806964131399\n",
            "\"Leptotrichiaceae\"_unclassified\n",
            "0.5086289481903415\n"
          ]
        },
        {
          "output_type": "execute_result",
          "data": {
            "text/plain": [
              "Text(0.5, 1.0, 'Correlation of Leptotrichiaceae Genus with FEV1')"
            ]
          },
          "metadata": {},
          "execution_count": 21
        },
        {
          "output_type": "display_data",
          "data": {
            "text/plain": [
              "<Figure size 432x288 with 1 Axes>"
            ],
            "image/png": "[encoded data removed]"
          },
          "metadata": {
            "needs_background": "light"
          }
        }
      ]
    },
    {
      "cell_type": "code",
      "source": [
        "family_dict = dict()\n",
        "for rep_seq in taxonomic_data.index:\n",
        "  family = taxonomic_data.loc[rep_seq].family\n",
        "  family_dict[rep_seq] = family\n",
        "\n",
        "family_aggregated_count_matrix = aggregated_count_matrix.groupby(family_dict).sum()\n",
        "\n",
        "family_aggregated_count_matrix = family_aggregated_count_matrix[sample_data.index]"
      ],
      "metadata": {
        "id": "184NjXTYaVnL"
      },
      "execution_count": null,
      "outputs": []
    },
    {
      "cell_type": "code",
      "source": [
        "fev1 = pd.to_numeric(sample_data.fev1, errors='coerce')\n",
        "pvalues_family = []\n",
        "family_names = []\n",
        "corr_family = []\n",
        "\n",
        "for family in family_aggregated_count_matrix.index:\n",
        "  family_counts = family_aggregated_count_matrix.loc[family]\n",
        "  result = stats.spearmanr(fev1, family_counts, nan_policy='omit')\n",
        "  if result.pvalue < a_level:\n",
        "    pvalues_family.append(result.pvalue)\n",
        "    family_names.append(family)\n",
        "    corr_family.append(result.correlation)\n",
        "\n",
        "print(family_names)\n",
        "\n",
        "min_index = np.argmin(pvalues_family)\n",
        "print(pvalues_family[min_index])\n",
        "print(family_names[min_index])\n",
        "print(corr_family[min_index])\n",
        "\n",
        "family_counts = family_aggregated_count_matrix.loc[family_names[min_index]]\n",
        "plt.scatter(fev1, family_counts)\n",
        "plt.xlabel(\"FEV1 Score\")\n",
        "plt.ylabel(\"Number of Identifications Per Patient\")\n",
        "plt.title(\"Correlation of Enterobacteriaceae Family with FEV1\")"
      ],
      "metadata": {
        "id": "VGLPl2gfaoga",
        "colab": {
          "base_uri": "https://localhost:8080/",
          "height": 382
        },
        "outputId": "e8b5771f-0de5-4068-9563-6db994f5a532"
      },
      "execution_count": null,
      "outputs": [
        {
          "output_type": "stream",
          "name": "stdout",
          "text": [
            "['Enterobacteriaceae']\n",
            "0.0003942765237458277\n",
            "Enterobacteriaceae\n",
            "0.5057354501800927\n"
          ]
        },
        {
          "output_type": "execute_result",
          "data": {
            "text/plain": [
              "Text(0.5, 1.0, 'Correlation of Enterobacteriaceae Family with FEV1')"
            ]
          },
          "metadata": {},
          "execution_count": 23
        },
        {
          "output_type": "display_data",
          "data": {
            "text/plain": [
              "<Figure size 432x288 with 1 Axes>"
            ],
            "image/png": "[encoded data removed]"
          },
          "metadata": {
            "needs_background": "light"
          }
        }
      ]
    },
    {
      "cell_type": "code",
      "source": [
        "order_dict = dict()\n",
        "for rep_seq in taxonomic_data.index:\n",
        "  order = taxonomic_data.loc[rep_seq].order\n",
        "  order_dict[rep_seq] = order\n",
        "\n",
        "order_aggregated_count_matrix = aggregated_count_matrix.groupby(order_dict).sum()\n",
        "\n",
        "order_aggregated_count_matrix = order_aggregated_count_matrix[sample_data.index]"
      ],
      "metadata": {
        "id": "s-t80GTizKVB"
      },
      "execution_count": null,
      "outputs": []
    },
    {
      "cell_type": "code",
      "source": [
        "fev1 = pd.to_numeric(sample_data.fev1, errors='coerce')\n",
        "pvalues_order = []\n",
        "order_names = []\n",
        "\n",
        "for order in order_aggregated_count_matrix.index:\n",
        "  order_counts = order_aggregated_count_matrix.loc[order]\n",
        "  result = stats.spearmanr(fev1, order_counts, nan_policy='omit')\n",
        "  if result.pvalue < a_level:\n",
        "    pvalues_order.append(result.pvalue)\n",
        "    order_names.append(order)\n",
        "\n",
        "print(order_names)\n",
        "\n",
        "min_index = np.argmin(pvalues_order)\n",
        "print(pvalues_order[min_index])\n",
        "print(order_names[min_index])\n",
        "\n",
        "order_counts = order_aggregated_count_matrix.loc[order_names[min_index]]\n",
        "plt.scatter(fev1, order_counts)"
      ],
      "metadata": {
        "id": "vPob09F0zNVi",
        "colab": {
          "base_uri": "https://localhost:8080/",
          "height": 334
        },
        "outputId": "fe139df5-787d-43cf-adfe-0f60f71236b0"
      },
      "execution_count": null,
      "outputs": [
        {
          "output_type": "stream",
          "name": "stdout",
          "text": [
            "['\"Enterobacteriales\"']\n",
            "0.0003942765237458277\n",
            "\"Enterobacteriales\"\n"
          ]
        },
        {
          "output_type": "execute_result",
          "data": {
            "text/plain": [
              "<matplotlib.collections.PathCollection at 0x7fc0f2a2a580>"
            ]
          },
          "metadata": {},
          "execution_count": 25
        },
        {
          "output_type": "display_data",
          "data": {
            "text/plain": [
              "<Figure size 432x288 with 1 Axes>"
            ],
            "image/png": "[encoded data removed]"
          },
          "metadata": {
            "needs_background": "light"
          }
        }
      ]
    },
    {
      "cell_type": "code",
      "source": [
        "clas_dict = dict()\n",
        "for rep_seq in taxonomic_data.index:\n",
        "  clas = taxonomic_data.loc[rep_seq].clas\n",
        "  clas_dict[rep_seq] = clas\n",
        "\n",
        "clas_aggregated_count_matrix = aggregated_count_matrix.groupby(clas_dict).sum()\n",
        "\n",
        "clas_aggregated_count_matrix = clas_aggregated_count_matrix[sample_data.index]"
      ],
      "metadata": {
        "id": "iYnuXdOTiikD"
      },
      "execution_count": null,
      "outputs": []
    },
    {
      "cell_type": "code",
      "source": [
        "fev1 = pd.to_numeric(sample_data.fev1, errors='coerce')\n",
        "pvalues_clas = []\n",
        "clas_names = []\n",
        "\n",
        "for clas in clas_aggregated_count_matrix.index:\n",
        "  clas_counts = clas_aggregated_count_matrix.loc[clas]\n",
        "  result = stats.spearmanr(fev1, clas_counts, nan_policy='omit')\n",
        "  if result.pvalue < a_level:\n",
        "    pvalues_clas.append(result.pvalue)\n",
        "    clas_names.append(clas)\n",
        "\n",
        "print(clas_names)\n",
        "\n",
        "#min_index = np.argmin(pvalues_clas)\n",
        "#print(pvalues_clas[min_index])\n",
        "#print(clas_names[min_index])\n",
        "\n",
        "#bacteria_counts = clas_aggregated_count_matrix.loc[clas_names[min_index]]\n",
        "#plt.scatter(fev1, clas_counts)"
      ],
      "metadata": {
        "id": "RYJWFmixy3Bd",
        "colab": {
          "base_uri": "https://localhost:8080/"
        },
        "outputId": "723d21a3-9d32-4dc6-fada-9fdb0b1426b2"
      },
      "execution_count": null,
      "outputs": [
        {
          "output_type": "stream",
          "name": "stdout",
          "text": [
            "[]\n"
          ]
        }
      ]
    },
    {
      "cell_type": "code",
      "source": [
        "phylum_dict = dict()\n",
        "for rep_seq in taxonomic_data.index:\n",
        "  phylum = taxonomic_data.loc[rep_seq].phylum\n",
        "  phylum_dict[rep_seq] = phylum\n",
        "\n",
        "phylum_aggregated_count_matrix = aggregated_count_matrix.groupby(phylum_dict).sum()\n",
        "\n",
        "phylum_aggregated_count_matrix = phylum_aggregated_count_matrix[sample_data.index]"
      ],
      "metadata": {
        "id": "ctw3HF13y6L9"
      },
      "execution_count": null,
      "outputs": []
    },
    {
      "cell_type": "code",
      "source": [
        "fev1 = pd.to_numeric(sample_data.fev1, errors='coerce')\n",
        "pvalues_phylum = []\n",
        "phylum_names = []\n",
        "\n",
        "for phylum in phylum_aggregated_count_matrix.index:\n",
        "  phylum_counts = phylum_aggregated_count_matrix.loc[phylum]\n",
        "  result = stats.spearmanr(fev1, phylum_counts, nan_policy='omit')\n",
        "  if result.pvalue < a_level:\n",
        "    pvalues_phylum.append(result.pvalue)\n",
        "    phylum_names.append(phylum)\n",
        "\n",
        "print(phylum_names)\n",
        "\n",
        "#min_index = np.argmin(pvalues_phylum)\n",
        "#print(pvalues_phylum[min_index])\n",
        "#print(phylum_names[min_index])\n",
        "\n",
        "#bacteria_counts = phylum_aggregated_count_matrix.loc[phylum_names[min_index]]\n",
        "#plt.scatter(fev1, phylum_counts)"
      ],
      "metadata": {
        "id": "RoNOX6MazhJ3",
        "colab": {
          "base_uri": "https://localhost:8080/"
        },
        "outputId": "8e5755c0-1609-4fbc-f2fa-2e20a62de7fa"
      },
      "execution_count": null,
      "outputs": [
        {
          "output_type": "stream",
          "name": "stdout",
          "text": [
            "[]\n"
          ]
        }
      ]
    },
    {
      "cell_type": "markdown",
      "source": [
        "Correlations with FEV1/FVC Ratio"
      ],
      "metadata": {
        "id": "dmcIwA5Dzuv7"
      }
    },
    {
      "cell_type": "code",
      "source": [
        "ratio_list = [0] * 51\n",
        "ratio_list[0] = 'n/a'\n",
        "ratio_list[1] = 'n/a'\n",
        "ratio_list[2] = 'n/a'\n",
        "ratio_list[-1] = 'n/a'\n",
        "ratio_list[-5] = 'n/a'\n",
        "ratio_list[-13] = 'n/a'\n",
        "ratio_list[-19] = 'n/a'\n",
        "\n",
        "for row in range(51):\n",
        "  if ratio_list[row] != 'n/a':\n",
        "    ratio_list[row] = [int(sample_data[\"fev1\"].iloc[row])/int(sample_data[\"fvc\"].iloc[row])]\n",
        "\n",
        "ratio_list\n",
        "\n",
        "sample_data[\"ratio\"] = [0] * 51\n",
        "sample_data.iloc[0] = 'n/a'\n",
        "sample_data.iloc[1] = 'n/a'\n",
        "sample_data.iloc[2] = 'n/a'\n",
        "sample_data.iloc[-1] = 'n/a'\n",
        "sample_data.iloc[-5] = 'n/a'\n",
        "sample_data.iloc[-13] = 'n/a'\n",
        "sample_data.iloc[-19] = 'n/a'\n",
        "\n",
        "for row in range(51):\n",
        "  if ratio_list[row] != 'n/a':\n",
        "    sample_data[\"ratio\"].iloc[row] = (float(ratio_list[row][0])) * 100"
      ],
      "metadata": {
        "id": "pQ5iv77rzooV"
      },
      "execution_count": null,
      "outputs": []
    },
    {
      "cell_type": "code",
      "source": [
        "ratio = pd.to_numeric(sample_data.ratio, errors='coerce')\n",
        "pvalues = []\n",
        "bacteria_names = []\n",
        "for bact_name in aggregated_count_matrix.index:\n",
        "  bacteria_counts = aggregated_count_matrix.loc[bact_name]\n",
        "  result = stats.spearmanr(ratio, bacteria_counts, nan_policy='omit')\n",
        "  if result.pvalue < a_level:\n",
        "    pvalues.append(result.pvalue)\n",
        "    bacteria_names.append(bact_name)\n",
        "\n",
        "print(bacteria_names)\n",
        "\n",
        "#min_index = np.argmin(pvalues)\n",
        "#print(pvalues[min_index])\n",
        "#print(bacteria_names[min_index])\n",
        "\n",
        "#bacteria_counts = aggregated_count_matrix.loc[bacteria_names[min_index]]\n",
        "#plt.scatter(ratio, bacteria_counts)"
      ],
      "metadata": {
        "id": "d2md5hvNXLKZ",
        "colab": {
          "base_uri": "https://localhost:8080/"
        },
        "outputId": "88915f19-2bd5-4fd9-dd8b-aba92b8e6785"
      },
      "execution_count": null,
      "outputs": [
        {
          "output_type": "stream",
          "name": "stdout",
          "text": [
            "[]\n"
          ]
        }
      ]
    },
    {
      "cell_type": "code",
      "source": [
        "ratio = pd.to_numeric(sample_data.ratio, errors='coerce')\n",
        "pvalues_genus = []\n",
        "genus_names = []\n",
        "\n",
        "for genus in genus_aggregated_count_matrix.index:\n",
        "  genus_counts = genus_aggregated_count_matrix.loc[genus]\n",
        "  result = stats.spearmanr(ratio, genus_counts, nan_policy='omit')\n",
        "  if result.pvalue < a_level:\n",
        "    pvalues_genus.append(result.pvalue)\n",
        "    genus_names.append(genus)\n",
        "\n",
        "print(genus_names)\n",
        "\n",
        "#min_index = np.argmin(pvalues_genus)\n",
        "#print(pvalues_genus[min_index])\n",
        "#print(genus_names[min_index])\n",
        "\n",
        "#bacteria_counts = genus_aggregated_count_matrix.loc[genus_names[min_index]]\n",
        "#plt.scatter(ratio, genus_counts)"
      ],
      "metadata": {
        "id": "bPE5RvfdXaPq",
        "colab": {
          "base_uri": "https://localhost:8080/"
        },
        "outputId": "5cf76c37-5004-4def-c774-ec029336663b"
      },
      "execution_count": null,
      "outputs": [
        {
          "output_type": "stream",
          "name": "stdout",
          "text": [
            "[]\n"
          ]
        }
      ]
    },
    {
      "cell_type": "code",
      "source": [
        "ratio = pd.to_numeric(sample_data.ratio, errors='coerce')\n",
        "pvalues_family = []\n",
        "family_names = []\n",
        "\n",
        "for family in family_aggregated_count_matrix.index:\n",
        "  family_counts = family_aggregated_count_matrix.loc[family]\n",
        "  result = stats.spearmanr(ratio, family_counts, nan_policy='omit')\n",
        "  if result.pvalue < a_level:\n",
        "    pvalues_family.append(result.pvalue)\n",
        "    family_names.append(family)\n",
        "\n",
        "print(family_names)\n",
        "\n",
        "#min_index = np.argmin(pvalues_family)\n",
        "#print(pvalues_family[min_index])\n",
        "#print(family_names[min_index])\n",
        "\n",
        "#bacteria_counts = family_aggregated_count_matrix.loc[family_names[min_index]]\n",
        "#plt.scatter(ratio, family_counts)"
      ],
      "metadata": {
        "id": "wvUyn54AXtOH",
        "colab": {
          "base_uri": "https://localhost:8080/"
        },
        "outputId": "9dc98b33-9f8c-4384-f79b-c495b451963b"
      },
      "execution_count": null,
      "outputs": [
        {
          "output_type": "stream",
          "name": "stdout",
          "text": [
            "[]\n"
          ]
        }
      ]
    },
    {
      "cell_type": "code",
      "source": [
        "ratio = pd.to_numeric(sample_data.ratio, errors='coerce')\n",
        "pvalues_order = []\n",
        "order_names = []\n",
        "\n",
        "for order in order_aggregated_count_matrix.index:\n",
        "  order_counts = order_aggregated_count_matrix.loc[order]\n",
        "  result = stats.spearmanr(ratio, order_counts, nan_policy='omit')\n",
        "  if result.pvalue < a_level:\n",
        "    pvalues_order.append(result.pvalue)\n",
        "    order_names.append(order)\n",
        "\n",
        "print(order_names)\n",
        "\n",
        "#min_index = np.argmin(pvalues_order)\n",
        "#print(pvalues_order[min_index])\n",
        "#print(order_names[min_index])\n",
        "\n",
        "#bacteria_counts = order_aggregated_count_matrix.loc[order_names[min_index]]\n",
        "#plt.scatter(ratio, order_counts)"
      ],
      "metadata": {
        "id": "-d3QkKyxX59j",
        "colab": {
          "base_uri": "https://localhost:8080/"
        },
        "outputId": "b411eee1-aeba-4fb5-9194-6f0060112b45"
      },
      "execution_count": null,
      "outputs": [
        {
          "output_type": "stream",
          "name": "stdout",
          "text": [
            "[]\n"
          ]
        }
      ]
    },
    {
      "cell_type": "code",
      "source": [
        "ratio = pd.to_numeric(sample_data.ratio, errors='coerce')\n",
        "pvalues_clas = []\n",
        "clas_names = []\n",
        "\n",
        "for clas in clas_aggregated_count_matrix.index:\n",
        "  clas_counts = clas_aggregated_count_matrix.loc[clas]\n",
        "  result = stats.spearmanr(ratio, clas_counts, nan_policy='omit')\n",
        "  if result.pvalue < a_level:\n",
        "    pvalues_clas.append(result.pvalue)\n",
        "    clas_names.append(clas)\n",
        "\n",
        "print(clas_names)\n",
        "\n",
        "#min_index = np.argmin(pvalues_clas)\n",
        "#print(pvalues_clas[min_index])\n",
        "#print(clas_names[min_index])\n",
        "\n",
        "#bacteria_counts = clas_aggregated_count_matrix.loc[clas_names[min_index]]\n",
        "#plt.scatter(ratio, clas_counts)"
      ],
      "metadata": {
        "id": "G7LXLQS7YMN5",
        "colab": {
          "base_uri": "https://localhost:8080/"
        },
        "outputId": "b8311355-3a41-4f3a-a3c1-56aca48d0563"
      },
      "execution_count": null,
      "outputs": [
        {
          "output_type": "stream",
          "name": "stdout",
          "text": [
            "[]\n"
          ]
        }
      ]
    },
    {
      "cell_type": "code",
      "source": [
        "ratio = pd.to_numeric(sample_data.ratio, errors='coerce')\n",
        "pvalues_phylum = []\n",
        "phylum_names = []\n",
        "\n",
        "for phylum in phylum_aggregated_count_matrix.index:\n",
        "  phylum_counts = phylum_aggregated_count_matrix.loc[phylum]\n",
        "  result = stats.spearmanr(ratio, phylum_counts, nan_policy='omit')\n",
        "  if result.pvalue < a_level:\n",
        "    pvalues_phylum.append(result.pvalue)\n",
        "    phylum_names.append(phylum)\n",
        "\n",
        "print(phylum_names)\n",
        "\n",
        "#min_index = np.argmin(pvalues_phylum)\n",
        "#print(pvalues_phylum[min_index])\n",
        "#print(phylum_names[min_index])\n",
        "\n",
        "#bacteria_counts = phylum_aggregated_count_matrix.loc[phylum_names[min_index]]\n",
        "#plt.scatter(ratio, phylum_counts)"
      ],
      "metadata": {
        "id": "oDizMiRCYSES",
        "colab": {
          "base_uri": "https://localhost:8080/"
        },
        "outputId": "6aaf6b29-fc51-41c9-e34b-268d95a1d325"
      },
      "execution_count": null,
      "outputs": [
        {
          "output_type": "stream",
          "name": "stdout",
          "text": [
            "[]\n"
          ]
        }
      ]
    },
    {
      "cell_type": "code",
      "source": [],
      "metadata": {
        "id": "65xGBdJ4KPV1"
      },
      "execution_count": null,
      "outputs": []
    }
  ]
}